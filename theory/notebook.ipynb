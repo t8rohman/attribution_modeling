{
 "cells": [
  {
   "cell_type": "markdown",
   "metadata": {},
   "source": [
    "# Attribution Modeling\n",
    "\n",
    "Attribution Modeling is a critical concept in marketing analytics that aims to assign credit to various touchpoints in a customer's journey. It helps marketers understand the effectiveness of different channels and optimize their marketing strategies. There are several types of Attribution Models, including First-Touch, Last-Touch, Linear, Time-Decay, and Position-Based. Each model has its own approach to distributing credit, allowing marketers to gain insights into customer behavior and channel performance.\n",
    "\n",
    "In this notebook, we will explore these different Attribution Models and demonstrate how to implement them using Python. By the end, you will have a solid understanding of Attribution Modeling and how to apply it to your marketing analytics workflow."
   ]
  },
  {
   "cell_type": "markdown",
   "metadata": {},
   "source": [
    "# 0. Dataset\n",
    "\n",
    "We will use the Criteo Attribution Modeling for Bidding Dataset from Kaggle to learn the attribution modeling."
   ]
  },
  {
   "cell_type": "markdown",
   "metadata": {},
   "source": [
    "## 0.1. Dataset Profile & Transformation"
   ]
  },
  {
   "cell_type": "code",
   "execution_count": 213,
   "metadata": {},
   "outputs": [
    {
     "data": {
      "text/html": [
       "<div>\n",
       "<style scoped>\n",
       "    .dataframe tbody tr th:only-of-type {\n",
       "        vertical-align: middle;\n",
       "    }\n",
       "\n",
       "    .dataframe tbody tr th {\n",
       "        vertical-align: top;\n",
       "    }\n",
       "\n",
       "    .dataframe thead th {\n",
       "        text-align: right;\n",
       "    }\n",
       "</style>\n",
       "<table border=\"1\" class=\"dataframe\">\n",
       "  <thead>\n",
       "    <tr style=\"text-align: right;\">\n",
       "      <th></th>\n",
       "      <th>cookie</th>\n",
       "      <th>time</th>\n",
       "      <th>interaction</th>\n",
       "      <th>conversion</th>\n",
       "      <th>conversion_value</th>\n",
       "      <th>channel</th>\n",
       "    </tr>\n",
       "  </thead>\n",
       "  <tbody>\n",
       "    <tr>\n",
       "      <th>0</th>\n",
       "      <td>00000FkCnDfDDf0iC97iC703B</td>\n",
       "      <td>2018-07-03T13:02:11Z</td>\n",
       "      <td>impression</td>\n",
       "      <td>0</td>\n",
       "      <td>0.0</td>\n",
       "      <td>Instagram</td>\n",
       "    </tr>\n",
       "    <tr>\n",
       "      <th>1</th>\n",
       "      <td>00000FkCnDfDDf0iC97iC703B</td>\n",
       "      <td>2018-07-17T19:15:07Z</td>\n",
       "      <td>impression</td>\n",
       "      <td>0</td>\n",
       "      <td>0.0</td>\n",
       "      <td>Online Display</td>\n",
       "    </tr>\n",
       "    <tr>\n",
       "      <th>2</th>\n",
       "      <td>00000FkCnDfDDf0iC97iC703B</td>\n",
       "      <td>2018-07-24T15:51:46Z</td>\n",
       "      <td>impression</td>\n",
       "      <td>0</td>\n",
       "      <td>0.0</td>\n",
       "      <td>Online Display</td>\n",
       "    </tr>\n",
       "    <tr>\n",
       "      <th>3</th>\n",
       "      <td>00000FkCnDfDDf0iC97iC703B</td>\n",
       "      <td>2018-07-29T07:44:51Z</td>\n",
       "      <td>impression</td>\n",
       "      <td>0</td>\n",
       "      <td>0.0</td>\n",
       "      <td>Online Display</td>\n",
       "    </tr>\n",
       "    <tr>\n",
       "      <th>4</th>\n",
       "      <td>0000nACkD9nFkBBDECD3ki00E</td>\n",
       "      <td>2018-07-03T09:44:57Z</td>\n",
       "      <td>impression</td>\n",
       "      <td>0</td>\n",
       "      <td>0.0</td>\n",
       "      <td>Paid Search</td>\n",
       "    </tr>\n",
       "  </tbody>\n",
       "</table>\n",
       "</div>"
      ],
      "text/plain": [
       "                      cookie                  time interaction  conversion  \\\n",
       "0  00000FkCnDfDDf0iC97iC703B  2018-07-03T13:02:11Z  impression           0   \n",
       "1  00000FkCnDfDDf0iC97iC703B  2018-07-17T19:15:07Z  impression           0   \n",
       "2  00000FkCnDfDDf0iC97iC703B  2018-07-24T15:51:46Z  impression           0   \n",
       "3  00000FkCnDfDDf0iC97iC703B  2018-07-29T07:44:51Z  impression           0   \n",
       "4  0000nACkD9nFkBBDECD3ki00E  2018-07-03T09:44:57Z  impression           0   \n",
       "\n",
       "   conversion_value         channel  \n",
       "0               0.0       Instagram  \n",
       "1               0.0  Online Display  \n",
       "2               0.0  Online Display  \n",
       "3               0.0  Online Display  \n",
       "4               0.0     Paid Search  "
      ]
     },
     "metadata": {},
     "output_type": "display_data"
    },
    {
     "name": "stdout",
     "output_type": "stream",
     "text": [
      "number of records: 586737\n"
     ]
    }
   ],
   "source": [
    "import pandas as pd\n",
    "import numpy as np\n",
    "\n",
    "df = pd.read_csv('datasets/attribution data.csv')\n",
    "\n",
    "display(df.head())\n",
    "print('number of records:', len(df))"
   ]
  },
  {
   "cell_type": "code",
   "execution_count": 214,
   "metadata": {},
   "outputs": [
    {
     "name": "stdout",
     "output_type": "stream",
     "text": [
      "<class 'pandas.core.frame.DataFrame'>\n",
      "RangeIndex: 586737 entries, 0 to 586736\n",
      "Data columns (total 6 columns):\n",
      " #   Column            Non-Null Count   Dtype  \n",
      "---  ------            --------------   -----  \n",
      " 0   cookie            586737 non-null  object \n",
      " 1   time              586737 non-null  object \n",
      " 2   interaction       586737 non-null  object \n",
      " 3   conversion        586737 non-null  int64  \n",
      " 4   conversion_value  586737 non-null  float64\n",
      " 5   channel           586737 non-null  object \n",
      "dtypes: float64(1), int64(1), object(4)\n",
      "memory usage: 26.9+ MB\n"
     ]
    }
   ],
   "source": [
    "# print the dataframe information\n",
    "\n",
    "df.info()"
   ]
  },
  {
   "cell_type": "code",
   "execution_count": 215,
   "metadata": {},
   "outputs": [
    {
     "name": "stdout",
     "output_type": "stream",
     "text": [
      "<class 'pandas.core.frame.DataFrame'>\n",
      "RangeIndex: 586737 entries, 0 to 586736\n",
      "Data columns (total 6 columns):\n",
      " #   Column            Non-Null Count   Dtype              \n",
      "---  ------            --------------   -----              \n",
      " 0   cookie            586737 non-null  object             \n",
      " 1   time              586737 non-null  datetime64[ns, UTC]\n",
      " 2   interaction       586737 non-null  object             \n",
      " 3   conversion        586737 non-null  int64              \n",
      " 4   conversion_value  586737 non-null  float64            \n",
      " 5   channel           586737 non-null  object             \n",
      "dtypes: datetime64[ns, UTC](1), float64(1), int64(1), object(3)\n",
      "memory usage: 26.9+ MB\n"
     ]
    }
   ],
   "source": [
    "# transformation, str to datetime for time column\n",
    "\n",
    "df['time'] = pd.to_datetime(df['time'])\n",
    "df.info()"
   ]
  },
  {
   "cell_type": "markdown",
   "metadata": {},
   "source": [
    "From the table, we have total of 6 columns and 586,737 records. The profile of the columns are as follow:\n",
    "\n",
    "| Field            | Description                                                                                                          |\n",
    "|------------------|----------------------------------------------------------------------------------------------------------------------|\n",
    "| Cookie           | A randomly generated customer ID that helps link subsequent visits to the same customer.                            |\n",
    "| Timestamp        | The date and time of the visit.                                                                                      |\n",
    "| Interaction      | A categorical variable indicating the type of interaction that occurred.                                             |\n",
    "| Conversion       | A boolean variable indicating whether a conversion occurred.                                                          |\n",
    "| Conversion_Value | The value associated with the potential conversion event.                                                            |\n",
    "| Channel          | The marketing channel through which the customer accesses the site.                                                  |"
   ]
  },
  {
   "cell_type": "markdown",
   "metadata": {},
   "source": [
    "## 0.2. Dataset Exploration (EDA)"
   ]
  },
  {
   "cell_type": "code",
   "execution_count": 216,
   "metadata": {},
   "outputs": [
    {
     "name": "stdout",
     "output_type": "stream",
     "text": [
      "unique record number for interaction: 2\n",
      "unique record number for cookie: 240108\n",
      "unique record number for channel: 5\n"
     ]
    }
   ],
   "source": [
    "# print nunique for uid and campaign\n",
    "\n",
    "for col in ['interaction', 'cookie', 'channel']:\n",
    "    print(f'unique record number for {col}:', df[col].nunique())"
   ]
  },
  {
   "cell_type": "code",
   "execution_count": 217,
   "metadata": {},
   "outputs": [
    {
     "data": {
      "image/png": "[encoded data removed]",
      "text/plain": [
       "<Figure size 640x480 with 1 Axes>"
      ]
     },
     "metadata": {},
     "output_type": "display_data"
    }
   ],
   "source": [
    "# top 5 campaigns conversion number\n",
    "\n",
    "import matplotlib.pyplot as plt\n",
    "\n",
    "df.groupby('channel')['conversion'].sum().sort_values(ascending=False).plot(kind='bar', rot=45)\n",
    "\n",
    "plt.title('Total Conversions Based on Channel')\n",
    "plt.show()"
   ]
  },
  {
   "cell_type": "code",
   "execution_count": 218,
   "metadata": {},
   "outputs": [
    {
     "data": {
      "image/png": "[encoded data removed]",
      "text/plain": [
       "<Figure size 640x480 with 1 Axes>"
      ]
     },
     "metadata": {},
     "output_type": "display_data"
    }
   ],
   "source": [
    "# top 5 campaigns conversion value\n",
    "\n",
    "import matplotlib.pyplot as plt\n",
    "\n",
    "df.groupby('channel')['conversion_value'].sum().sort_values(ascending=False).plot(kind='bar', rot=45)\n",
    "\n",
    "plt.title('Total Conversions Based on Channel')\n",
    "plt.show()"
   ]
  },
  {
   "cell_type": "markdown",
   "metadata": {},
   "source": []
  },
  {
   "cell_type": "markdown",
   "metadata": {},
   "source": [
    "# 1. Types of Attribution Modeling \n",
    "\n",
    "Attribution modeling is a method used in marketing to determine how credit for sales and conversions is assigned to various touchpoints in customer journeys. In essence, it helps marketers understand which marketing channels are most effective in driving conversions. There are several types of attribution models, each with its own way of assigning credit. Here are some common ones:\n",
    "\n",
    "| Attribution Model          | Description                                                                                                                                                                                                                                                      |\n",
    "|----------------------------|------------------------------------------------------------------------------------------------------------------------------------------------------------------------------------------------------------------------------------------------------------------|\n",
    "| First Touch Attribution    | This model gives all the credit for a conversion to the first touchpoint a customer interacted with. For example, if a customer first learns about a product through a Facebook ad and later buys it after clicking a Google search ad, the Facebook ad would receive all the credit.                      |\n",
    "| Last Touch Attribution     | In contrast to first touch, last touch attribution gives all the credit to the last touchpoint before a conversion. Using the same example, the Google search ad would receive all the credit in this model.                                                      |\n",
    "| Linear Attribution         | This model distributes the credit equally among all touchpoints in the customer journey. So, if a customer goes through five touchpoints before converting, each touchpoint would receive 20% of the credit.                                                    |\n",
    "| Time Decay Attribution     | This model gives more credit to touchpoints closer to the conversion and less credit to those further away. Touchpoints earlier in the journey receive less credit than those closer to the conversion.                                                          |\n",
    "| U-Shaped (or Position-Based) Attribution | This model gives 40% of the credit each to the first and last touchpoints, while the remaining 20% is distributed evenly among the touchpoints in between. This acknowledges the importance of both the initial awareness-building touchpoints and the final conversion touchpoints. |\n",
    "| Custom Attribution Models | Companies can also create custom attribution models based on their specific business needs and customer journey patterns.                                                                                                                                      |\n",
    "\n",
    "\n",
    "Each attribution model has its strengths and weaknesses, and the choice of model often depends on the specific marketing goals and strategies of a business. Marketers use these models to optimize their marketing efforts by allocating resources to the most effective channels and campaigns."
   ]
  },
  {
   "cell_type": "markdown",
   "metadata": {},
   "source": [
    "<img src=\"images/multi-touch-attribution-models-explained.png\" alt=\"Multi-touch attribution models explained\" width=\"800\"/>"
   ]
  },
  {
   "cell_type": "markdown",
   "metadata": {},
   "source": [
    "Now, let's move on to the example on how we can do this with the dataset we have."
   ]
  },
  {
   "cell_type": "markdown",
   "metadata": {},
   "source": []
  },
  {
   "cell_type": "markdown",
   "metadata": {},
   "source": [
    "## 1.1. First-touch"
   ]
  },
  {
   "cell_type": "code",
   "execution_count": 8,
   "metadata": {},
   "outputs": [],
   "source": [
    "# make a duplicate of the current dataframe\n",
    "# to avoid losing the original dataframe we have\n",
    "\n",
    "df_first = df.copy(deep=True)\n",
    "\n",
    "# only take data where the user make a conversion\n",
    "\n",
    "cookie_conv = df_first[df_first['conversion'] == 1]['cookie'].unique()\n",
    "df_first = df_first[df_first['cookie'].isin(cookie_conv)]"
   ]
  },
  {
   "cell_type": "code",
   "execution_count": 9,
   "metadata": {},
   "outputs": [],
   "source": [
    "# check the first touch point of the user with our campaign\n",
    "# then filter out the data to only include these users\n",
    "\n",
    "df_first['min_time'] = df_first.groupby('cookie').transform('min')['time']\n",
    "df_first = df_first[df_first['time'] == df_first['min_time']]"
   ]
  },
  {
   "cell_type": "code",
   "execution_count": 10,
   "metadata": {},
   "outputs": [
    {
     "data": {
      "image/png": "[encoded data removed]",
      "text/plain": [
       "<Figure size 640x480 with 1 Axes>"
      ]
     },
     "metadata": {},
     "output_type": "display_data"
    }
   ],
   "source": [
    "att_first = pd.DataFrame(df_first['channel'].value_counts())\n",
    "att_first.plot(kind='bar', rot=45)\n",
    "\n",
    "plt.title('First-touch Attribution')\n",
    "plt.show()"
   ]
  },
  {
   "cell_type": "markdown",
   "metadata": {},
   "source": []
  },
  {
   "cell_type": "markdown",
   "metadata": {},
   "source": [
    "## 1.2. Last-touch"
   ]
  },
  {
   "cell_type": "code",
   "execution_count": 11,
   "metadata": {},
   "outputs": [],
   "source": [
    "# make a duplicate of the current dataframe\n",
    "# to avoid losing the original dataframe we have\n",
    "\n",
    "df_last = df.copy(deep=True)\n",
    "\n",
    "# only take data where the user make a conversion\n",
    "\n",
    "cookie_conv = df_last[df_last['conversion'] == 1]['cookie'].unique()\n",
    "df_last = df_last[df_last['cookie'].isin(cookie_conv)]\n",
    "\n",
    "# check the first touch point of the user with our campaign\n",
    "# then filter out the data to only include these users\n",
    "\n",
    "df_last['max_time'] = df_last.groupby('cookie').transform('max')['time']\n",
    "df_last = df_last[df_last['time'] == df_last['max_time']]"
   ]
  },
  {
   "cell_type": "code",
   "execution_count": 12,
   "metadata": {},
   "outputs": [
    {
     "data": {
      "image/png": "[encoded data removed]",
      "text/plain": [
       "<Figure size 640x480 with 1 Axes>"
      ]
     },
     "metadata": {},
     "output_type": "display_data"
    }
   ],
   "source": [
    "att_last = pd.DataFrame(df_last['channel'].value_counts())\n",
    "att_last.plot(kind='bar', rot=45)\n",
    "\n",
    "plt.title('Last-touch Attribution')\n",
    "plt.show()"
   ]
  },
  {
   "cell_type": "markdown",
   "metadata": {},
   "source": []
  },
  {
   "cell_type": "markdown",
   "metadata": {},
   "source": [
    "## 1.3. Linear Attribution"
   ]
  },
  {
   "cell_type": "code",
   "execution_count": 13,
   "metadata": {},
   "outputs": [],
   "source": [
    "# make a duplicate of the dataframe for users who are converting\n",
    "df_linear = df.copy(deep=True)\n",
    "\n",
    "cookie_conv = df_linear[df_linear['conversion'] == 1]['cookie'].unique()\n",
    "df_linear = df_linear[df_linear['cookie'].isin(cookie_conv)]\n",
    "\n",
    "df_linear = df_linear.sort_values(['cookie', 'time']).reset_index(drop=True)"
   ]
  },
  {
   "cell_type": "code",
   "execution_count": 14,
   "metadata": {},
   "outputs": [
    {
     "data": {
      "text/html": [
       "<div>\n",
       "<style scoped>\n",
       "    .dataframe tbody tr th:only-of-type {\n",
       "        vertical-align: middle;\n",
       "    }\n",
       "\n",
       "    .dataframe tbody tr th {\n",
       "        vertical-align: top;\n",
       "    }\n",
       "\n",
       "    .dataframe thead th {\n",
       "        text-align: right;\n",
       "    }\n",
       "</style>\n",
       "<table border=\"1\" class=\"dataframe\">\n",
       "  <thead>\n",
       "    <tr style=\"text-align: right;\">\n",
       "      <th></th>\n",
       "      <th>cookie</th>\n",
       "      <th>time</th>\n",
       "      <th>interaction</th>\n",
       "      <th>conversion</th>\n",
       "      <th>conversion_value</th>\n",
       "      <th>channel</th>\n",
       "      <th>n_touchpoints</th>\n",
       "      <th>credits</th>\n",
       "    </tr>\n",
       "  </thead>\n",
       "  <tbody>\n",
       "    <tr>\n",
       "      <th>0</th>\n",
       "      <td>0007oEBhnoF97AoEE3BCkFnhB</td>\n",
       "      <td>2018-07-06 13:45:29+00:00</td>\n",
       "      <td>conversion</td>\n",
       "      <td>1</td>\n",
       "      <td>6.5</td>\n",
       "      <td>Paid Search</td>\n",
       "      <td>1</td>\n",
       "      <td>1.000000</td>\n",
       "    </tr>\n",
       "    <tr>\n",
       "      <th>1</th>\n",
       "      <td>00090n9EBBEkA000C7Cik999D</td>\n",
       "      <td>2018-07-05 06:53:53+00:00</td>\n",
       "      <td>conversion</td>\n",
       "      <td>1</td>\n",
       "      <td>8.0</td>\n",
       "      <td>Facebook</td>\n",
       "      <td>1</td>\n",
       "      <td>1.000000</td>\n",
       "    </tr>\n",
       "    <tr>\n",
       "      <th>2</th>\n",
       "      <td>000h3n9nC0hFhE3CCnkkAof7n</td>\n",
       "      <td>2018-07-19 14:31:57+00:00</td>\n",
       "      <td>conversion</td>\n",
       "      <td>1</td>\n",
       "      <td>6.0</td>\n",
       "      <td>Facebook</td>\n",
       "      <td>1</td>\n",
       "      <td>1.000000</td>\n",
       "    </tr>\n",
       "    <tr>\n",
       "      <th>3</th>\n",
       "      <td>000hCBnCB7oi7ADAEnEBCnBEE</td>\n",
       "      <td>2018-07-07 14:34:54+00:00</td>\n",
       "      <td>impression</td>\n",
       "      <td>0</td>\n",
       "      <td>0.0</td>\n",
       "      <td>Online Video</td>\n",
       "      <td>24</td>\n",
       "      <td>0.041667</td>\n",
       "    </tr>\n",
       "    <tr>\n",
       "      <th>4</th>\n",
       "      <td>000hCBnCB7oi7ADAEnEBCnBEE</td>\n",
       "      <td>2018-07-07 14:35:22+00:00</td>\n",
       "      <td>impression</td>\n",
       "      <td>0</td>\n",
       "      <td>0.0</td>\n",
       "      <td>Online Video</td>\n",
       "      <td>24</td>\n",
       "      <td>0.041667</td>\n",
       "    </tr>\n",
       "  </tbody>\n",
       "</table>\n",
       "</div>"
      ],
      "text/plain": [
       "                      cookie                      time interaction  \\\n",
       "0  0007oEBhnoF97AoEE3BCkFnhB 2018-07-06 13:45:29+00:00  conversion   \n",
       "1  00090n9EBBEkA000C7Cik999D 2018-07-05 06:53:53+00:00  conversion   \n",
       "2  000h3n9nC0hFhE3CCnkkAof7n 2018-07-19 14:31:57+00:00  conversion   \n",
       "3  000hCBnCB7oi7ADAEnEBCnBEE 2018-07-07 14:34:54+00:00  impression   \n",
       "4  000hCBnCB7oi7ADAEnEBCnBEE 2018-07-07 14:35:22+00:00  impression   \n",
       "\n",
       "   conversion  conversion_value       channel  n_touchpoints   credits  \n",
       "0           1               6.5   Paid Search              1  1.000000  \n",
       "1           1               8.0      Facebook              1  1.000000  \n",
       "2           1               6.0      Facebook              1  1.000000  \n",
       "3           0               0.0  Online Video             24  0.041667  \n",
       "4           0               0.0  Online Video             24  0.041667  "
      ]
     },
     "execution_count": 14,
     "metadata": {},
     "output_type": "execute_result"
    }
   ],
   "source": [
    "# check number of touchpoints before converting\n",
    "# and put it as denominator, as the credits are distributed equally\n",
    "\n",
    "df_linear['n_touchpoints'] = df_linear.groupby('cookie').transform('size')\n",
    "df_linear['credits'] = 1 / df_linear['n_touchpoints']\n",
    "\n",
    "df_linear.head()"
   ]
  },
  {
   "cell_type": "code",
   "execution_count": 15,
   "metadata": {},
   "outputs": [
    {
     "data": {
      "image/png": "[encoded data removed]",
      "text/plain": [
       "<Figure size 640x480 with 1 Axes>"
      ]
     },
     "metadata": {},
     "output_type": "display_data"
    }
   ],
   "source": [
    "att_linear = pd.DataFrame(df_linear.groupby('channel')['credits'].sum().sort_values(ascending=False))\n",
    "att_linear.plot(kind='bar')\n",
    "\n",
    "plt.title('Linear Attribution')\n",
    "plt.show()"
   ]
  },
  {
   "cell_type": "markdown",
   "metadata": {},
   "source": []
  },
  {
   "cell_type": "markdown",
   "metadata": {},
   "source": [
    "## 1.4. Time Decay\n",
    "\n",
    "Time decay attribution is a method used in marketing attribution to assign credit to touchpoints based on their proximity to conversion. The idea is that touchpoints closer in time to the conversion event should receive more credit than those further away. One common approach is to use an **exponential decay function** to distribute the credit. The formula for the time decay function is:\n",
    "\n",
    "$\\text{Credit} = \\exp(- \\lambda \\cdot \\text{time\\_difference})$\n",
    "\n",
    "Where:\n",
    "- λ (lambda) is the decay parameter, which controls how quickly the credit diminishes over time. A higher lambda means faster decay.\n",
    "- time_difference is the time difference between the touchpoint and the conversion event.\n",
    "\n",
    "After, that we can normalize the credit value to make sure that all the credits will be added up to 1. To normalize the credits, you would calculate the individual credits using the time decay formula, then divide each credit by the sum of all credits\n",
    "\n",
    "$\\text{Normalized Credit}_i = \\frac{Credit_i}{\\sum_{j=1}^{n} \\text{Credit}_j}$"
   ]
  },
  {
   "cell_type": "code",
   "execution_count": 16,
   "metadata": {},
   "outputs": [],
   "source": [
    "# make a duplicate of the dataframe for users who are converting\n",
    "df_time = df.copy(deep=True)\n",
    "\n",
    "cookie_conv = df_time[df_time['conversion'] == 1]['cookie'].unique()\n",
    "df_time = df_time[df_time['cookie'].isin(cookie_conv)]\n",
    "\n",
    "df_time = df_time.sort_values(['cookie', 'time']).reset_index(drop=True)"
   ]
  },
  {
   "cell_type": "code",
   "execution_count": 17,
   "metadata": {},
   "outputs": [
    {
     "data": {
      "text/html": [
       "<div>\n",
       "<style scoped>\n",
       "    .dataframe tbody tr th:only-of-type {\n",
       "        vertical-align: middle;\n",
       "    }\n",
       "\n",
       "    .dataframe tbody tr th {\n",
       "        vertical-align: top;\n",
       "    }\n",
       "\n",
       "    .dataframe thead th {\n",
       "        text-align: right;\n",
       "    }\n",
       "</style>\n",
       "<table border=\"1\" class=\"dataframe\">\n",
       "  <thead>\n",
       "    <tr style=\"text-align: right;\">\n",
       "      <th></th>\n",
       "      <th>cookie</th>\n",
       "      <th>time</th>\n",
       "      <th>interaction</th>\n",
       "      <th>conversion</th>\n",
       "      <th>conversion_value</th>\n",
       "      <th>channel</th>\n",
       "      <th>conv_time</th>\n",
       "      <th>diff_time</th>\n",
       "      <th>diff_mins</th>\n",
       "    </tr>\n",
       "  </thead>\n",
       "  <tbody>\n",
       "    <tr>\n",
       "      <th>0</th>\n",
       "      <td>0007oEBhnoF97AoEE3BCkFnhB</td>\n",
       "      <td>2018-07-06 13:45:29+00:00</td>\n",
       "      <td>conversion</td>\n",
       "      <td>1</td>\n",
       "      <td>6.5</td>\n",
       "      <td>Paid Search</td>\n",
       "      <td>2018-07-06 13:45:29+00:00</td>\n",
       "      <td>0 days 00:00:00</td>\n",
       "      <td>0.0</td>\n",
       "    </tr>\n",
       "    <tr>\n",
       "      <th>1</th>\n",
       "      <td>00090n9EBBEkA000C7Cik999D</td>\n",
       "      <td>2018-07-05 06:53:53+00:00</td>\n",
       "      <td>conversion</td>\n",
       "      <td>1</td>\n",
       "      <td>8.0</td>\n",
       "      <td>Facebook</td>\n",
       "      <td>2018-07-05 06:53:53+00:00</td>\n",
       "      <td>0 days 00:00:00</td>\n",
       "      <td>0.0</td>\n",
       "    </tr>\n",
       "    <tr>\n",
       "      <th>2</th>\n",
       "      <td>000h3n9nC0hFhE3CCnkkAof7n</td>\n",
       "      <td>2018-07-19 14:31:57+00:00</td>\n",
       "      <td>conversion</td>\n",
       "      <td>1</td>\n",
       "      <td>6.0</td>\n",
       "      <td>Facebook</td>\n",
       "      <td>2018-07-19 14:31:57+00:00</td>\n",
       "      <td>0 days 00:00:00</td>\n",
       "      <td>0.0</td>\n",
       "    </tr>\n",
       "    <tr>\n",
       "      <th>3</th>\n",
       "      <td>000hCBnCB7oi7ADAEnEBCnBEE</td>\n",
       "      <td>2018-07-07 14:34:54+00:00</td>\n",
       "      <td>impression</td>\n",
       "      <td>0</td>\n",
       "      <td>0.0</td>\n",
       "      <td>Online Video</td>\n",
       "      <td>2018-07-25 11:15:16+00:00</td>\n",
       "      <td>17 days 20:40:22</td>\n",
       "      <td>25720.0</td>\n",
       "    </tr>\n",
       "    <tr>\n",
       "      <th>4</th>\n",
       "      <td>000hCBnCB7oi7ADAEnEBCnBEE</td>\n",
       "      <td>2018-07-07 14:35:22+00:00</td>\n",
       "      <td>impression</td>\n",
       "      <td>0</td>\n",
       "      <td>0.0</td>\n",
       "      <td>Online Video</td>\n",
       "      <td>2018-07-25 11:15:16+00:00</td>\n",
       "      <td>17 days 20:39:54</td>\n",
       "      <td>25719.0</td>\n",
       "    </tr>\n",
       "  </tbody>\n",
       "</table>\n",
       "</div>"
      ],
      "text/plain": [
       "                      cookie                      time interaction  \\\n",
       "0  0007oEBhnoF97AoEE3BCkFnhB 2018-07-06 13:45:29+00:00  conversion   \n",
       "1  00090n9EBBEkA000C7Cik999D 2018-07-05 06:53:53+00:00  conversion   \n",
       "2  000h3n9nC0hFhE3CCnkkAof7n 2018-07-19 14:31:57+00:00  conversion   \n",
       "3  000hCBnCB7oi7ADAEnEBCnBEE 2018-07-07 14:34:54+00:00  impression   \n",
       "4  000hCBnCB7oi7ADAEnEBCnBEE 2018-07-07 14:35:22+00:00  impression   \n",
       "\n",
       "   conversion  conversion_value       channel                 conv_time  \\\n",
       "0           1               6.5   Paid Search 2018-07-06 13:45:29+00:00   \n",
       "1           1               8.0      Facebook 2018-07-05 06:53:53+00:00   \n",
       "2           1               6.0      Facebook 2018-07-19 14:31:57+00:00   \n",
       "3           0               0.0  Online Video 2018-07-25 11:15:16+00:00   \n",
       "4           0               0.0  Online Video 2018-07-25 11:15:16+00:00   \n",
       "\n",
       "         diff_time  diff_mins  \n",
       "0  0 days 00:00:00        0.0  \n",
       "1  0 days 00:00:00        0.0  \n",
       "2  0 days 00:00:00        0.0  \n",
       "3 17 days 20:40:22    25720.0  \n",
       "4 17 days 20:39:54    25719.0  "
      ]
     },
     "execution_count": 17,
     "metadata": {},
     "output_type": "execute_result"
    }
   ],
   "source": [
    "# check the maximum time, to know when the person made a conversion\n",
    "df_time['conv_time'] = df_time.groupby('cookie')['time'].transform('max')\n",
    "\n",
    "# check the different time, to know the proximity to the conversion\n",
    "# and convert it to minute\n",
    "df_time['diff_time'] = df_time['conv_time'] - df_time['time']\n",
    "df_time['diff_mins'] = df_time['diff_time'].dt.total_seconds() // 60\n",
    "\n",
    "df_time.head()"
   ]
  },
  {
   "cell_type": "code",
   "execution_count": 18,
   "metadata": {},
   "outputs": [
    {
     "data": {
      "text/html": [
       "<div>\n",
       "<style scoped>\n",
       "    .dataframe tbody tr th:only-of-type {\n",
       "        vertical-align: middle;\n",
       "    }\n",
       "\n",
       "    .dataframe tbody tr th {\n",
       "        vertical-align: top;\n",
       "    }\n",
       "\n",
       "    .dataframe thead th {\n",
       "        text-align: right;\n",
       "    }\n",
       "</style>\n",
       "<table border=\"1\" class=\"dataframe\">\n",
       "  <thead>\n",
       "    <tr style=\"text-align: right;\">\n",
       "      <th></th>\n",
       "      <th>cookie</th>\n",
       "      <th>time</th>\n",
       "      <th>interaction</th>\n",
       "      <th>conversion</th>\n",
       "      <th>conversion_value</th>\n",
       "      <th>channel</th>\n",
       "      <th>conv_time</th>\n",
       "      <th>diff_time</th>\n",
       "      <th>diff_mins</th>\n",
       "      <th>credits</th>\n",
       "      <th>normalized_credits</th>\n",
       "    </tr>\n",
       "  </thead>\n",
       "  <tbody>\n",
       "    <tr>\n",
       "      <th>0</th>\n",
       "      <td>0007oEBhnoF97AoEE3BCkFnhB</td>\n",
       "      <td>2018-07-06 13:45:29+00:00</td>\n",
       "      <td>conversion</td>\n",
       "      <td>1</td>\n",
       "      <td>6.5</td>\n",
       "      <td>Paid Search</td>\n",
       "      <td>2018-07-06 13:45:29+00:00</td>\n",
       "      <td>0 days 00:00:00</td>\n",
       "      <td>0.0</td>\n",
       "      <td>1.000000</td>\n",
       "      <td>1.000000</td>\n",
       "    </tr>\n",
       "    <tr>\n",
       "      <th>1</th>\n",
       "      <td>00090n9EBBEkA000C7Cik999D</td>\n",
       "      <td>2018-07-05 06:53:53+00:00</td>\n",
       "      <td>conversion</td>\n",
       "      <td>1</td>\n",
       "      <td>8.0</td>\n",
       "      <td>Facebook</td>\n",
       "      <td>2018-07-05 06:53:53+00:00</td>\n",
       "      <td>0 days 00:00:00</td>\n",
       "      <td>0.0</td>\n",
       "      <td>1.000000</td>\n",
       "      <td>1.000000</td>\n",
       "    </tr>\n",
       "    <tr>\n",
       "      <th>2</th>\n",
       "      <td>000h3n9nC0hFhE3CCnkkAof7n</td>\n",
       "      <td>2018-07-19 14:31:57+00:00</td>\n",
       "      <td>conversion</td>\n",
       "      <td>1</td>\n",
       "      <td>6.0</td>\n",
       "      <td>Facebook</td>\n",
       "      <td>2018-07-19 14:31:57+00:00</td>\n",
       "      <td>0 days 00:00:00</td>\n",
       "      <td>0.0</td>\n",
       "      <td>1.000000</td>\n",
       "      <td>1.000000</td>\n",
       "    </tr>\n",
       "    <tr>\n",
       "      <th>3</th>\n",
       "      <td>000hCBnCB7oi7ADAEnEBCnBEE</td>\n",
       "      <td>2018-07-07 14:34:54+00:00</td>\n",
       "      <td>impression</td>\n",
       "      <td>0</td>\n",
       "      <td>0.0</td>\n",
       "      <td>Online Video</td>\n",
       "      <td>2018-07-25 11:15:16+00:00</td>\n",
       "      <td>17 days 20:40:22</td>\n",
       "      <td>25720.0</td>\n",
       "      <td>0.076383</td>\n",
       "      <td>0.006655</td>\n",
       "    </tr>\n",
       "    <tr>\n",
       "      <th>4</th>\n",
       "      <td>000hCBnCB7oi7ADAEnEBCnBEE</td>\n",
       "      <td>2018-07-07 14:35:22+00:00</td>\n",
       "      <td>impression</td>\n",
       "      <td>0</td>\n",
       "      <td>0.0</td>\n",
       "      <td>Online Video</td>\n",
       "      <td>2018-07-25 11:15:16+00:00</td>\n",
       "      <td>17 days 20:39:54</td>\n",
       "      <td>25719.0</td>\n",
       "      <td>0.076390</td>\n",
       "      <td>0.006656</td>\n",
       "    </tr>\n",
       "  </tbody>\n",
       "</table>\n",
       "</div>"
      ],
      "text/plain": [
       "                      cookie                      time interaction  \\\n",
       "0  0007oEBhnoF97AoEE3BCkFnhB 2018-07-06 13:45:29+00:00  conversion   \n",
       "1  00090n9EBBEkA000C7Cik999D 2018-07-05 06:53:53+00:00  conversion   \n",
       "2  000h3n9nC0hFhE3CCnkkAof7n 2018-07-19 14:31:57+00:00  conversion   \n",
       "3  000hCBnCB7oi7ADAEnEBCnBEE 2018-07-07 14:34:54+00:00  impression   \n",
       "4  000hCBnCB7oi7ADAEnEBCnBEE 2018-07-07 14:35:22+00:00  impression   \n",
       "\n",
       "   conversion  conversion_value       channel                 conv_time  \\\n",
       "0           1               6.5   Paid Search 2018-07-06 13:45:29+00:00   \n",
       "1           1               8.0      Facebook 2018-07-05 06:53:53+00:00   \n",
       "2           1               6.0      Facebook 2018-07-19 14:31:57+00:00   \n",
       "3           0               0.0  Online Video 2018-07-25 11:15:16+00:00   \n",
       "4           0               0.0  Online Video 2018-07-25 11:15:16+00:00   \n",
       "\n",
       "         diff_time  diff_mins   credits  normalized_credits  \n",
       "0  0 days 00:00:00        0.0  1.000000            1.000000  \n",
       "1  0 days 00:00:00        0.0  1.000000            1.000000  \n",
       "2  0 days 00:00:00        0.0  1.000000            1.000000  \n",
       "3 17 days 20:40:22    25720.0  0.076383            0.006655  \n",
       "4 17 days 20:39:54    25719.0  0.076390            0.006656  "
      ]
     },
     "execution_count": 18,
     "metadata": {},
     "output_type": "execute_result"
    }
   ],
   "source": [
    "# set the lambda here, the higher the lambda, channel will decay faster\n",
    "lambda_val = 0.0001\n",
    "\n",
    "# calculate the credits by using the formula above\n",
    "df_time['credits'] = np.exp(-lambda_val * df_time['diff_mins'])\n",
    "\n",
    "# normalize the credits to make it added up to 1\n",
    "sum_creds = df_time.groupby('cookie')['credits'].transform('sum')\n",
    "df_time['normalized_credits'] = df_time['credits'] / sum_creds\n",
    "\n",
    "df_time.head()"
   ]
  },
  {
   "cell_type": "code",
   "execution_count": 19,
   "metadata": {},
   "outputs": [
    {
     "data": {
      "image/png": "[encoded data removed]",
      "text/plain": [
       "<Figure size 640x480 with 1 Axes>"
      ]
     },
     "metadata": {},
     "output_type": "display_data"
    }
   ],
   "source": [
    "att_time = pd.DataFrame(df_time.groupby('channel')['normalized_credits'].sum().sort_values(ascending=False))\n",
    "att_time.plot(kind='bar', rot=45)\n",
    "\n",
    "plt.title('Time-decay Attribution')\n",
    "plt.show()"
   ]
  },
  {
   "cell_type": "markdown",
   "metadata": {},
   "source": []
  },
  {
   "cell_type": "markdown",
   "metadata": {},
   "source": [
    "## 1.5. Position-Based or U-shaped Attribution Models\n",
    "\n",
    "Position-based attribution models, also known as U-shaped attribution models, assign credit to different touchpoints in a customer journey based on their position. In a typical U-shaped model, **the first and last touchpoints each receive 40% of the credit, while the remaining 20% is distributed evenly** among the intermediate touchpoints. The formula for calculating the credit for each touchpoint in a U-shaped attribution model is as follows:\n",
    "\n",
    "Let $n$ be the total number of touchpoints in a customer journey, $C$ be the total number of conversions, and $\\text{Conv}_i$ be an indicator variable for whether touchpoint $i$ resulted in a conversion (1 for conversion, 0 for no conversion).\n",
    "\n",
    "The credit assigned to each touchpoint is calculated as follows:\n",
    "\n",
    "1. **First Touchpoint (FT):** $\\text{Credit}_{\\text{FT}} = 0.4 \\times C$\n",
    "2. **Last Touchpoint (LT):** $\\text{Credit}_{\\text{LT}} = 0.4 \\times C$\n",
    "3. **Intermediate Touchpoints (IT):** $\\text{Credit}_{\\text{IT}} = \\frac{0.2 \\times C}{n - 2}$\n",
    "\n",
    "However, when there is only one touchpoint or only two touchpoints before converting:\n",
    "\n",
    "1. **Single Touchpoint (ST):** $\\text{Credit}_{\\text{ST}} = C$ (where $C$ is the total number of conversions).\n",
    "2. **Two Touchpoints (TT) Before Converting:** $\\text{Credit}_{\\text{TT}} = 0.5 \\times C$ for each of the two touchpoints.\n",
    "\n",
    "The total credit assigned to each touchpoint $i$ can be represented as:\n",
    "\n",
    "$\\text{Credit}_i = \\begin{cases} \\text{Credit}_{\\text{FT}} & \\text{if } i = 1 \\\\ \\text{Credit}_{\\text{LT}} & \\text{if } i = n \\\\ \\text{Credit}_{\\text{IT}} & \\text{if } 1 < i < n \\end{cases}$\n",
    "\n",
    "In this model, the first and last touchpoints each receive 40% of the credit, while the remaining 20% is distributed evenly among the intermediate touchpoints."
   ]
  },
  {
   "cell_type": "code",
   "execution_count": 20,
   "metadata": {},
   "outputs": [],
   "source": [
    "# make a duplicate of the dataframe for users who are converting\n",
    "df_pos = df.copy(deep=True)\n",
    "\n",
    "cookie_conv = df_pos[df_pos['conversion'] == 1]['cookie'].unique()\n",
    "df_pos = df_pos[df_pos['cookie'].isin(cookie_conv)]\n",
    "\n",
    "df_pos = df_pos.sort_values(['cookie', 'time']).reset_index(drop=True)"
   ]
  },
  {
   "cell_type": "code",
   "execution_count": 21,
   "metadata": {},
   "outputs": [],
   "source": [
    "df_pos['n_touchpoints'] = df_pos.groupby('cookie').transform('size')\n",
    "df_pos['pos_touchpoints'] = df_pos.groupby('cookie').cumcount() + 1"
   ]
  },
  {
   "cell_type": "code",
   "execution_count": 22,
   "metadata": {},
   "outputs": [
    {
     "data": {
      "text/html": [
       "<div>\n",
       "<style scoped>\n",
       "    .dataframe tbody tr th:only-of-type {\n",
       "        vertical-align: middle;\n",
       "    }\n",
       "\n",
       "    .dataframe tbody tr th {\n",
       "        vertical-align: top;\n",
       "    }\n",
       "\n",
       "    .dataframe thead th {\n",
       "        text-align: right;\n",
       "    }\n",
       "</style>\n",
       "<table border=\"1\" class=\"dataframe\">\n",
       "  <thead>\n",
       "    <tr style=\"text-align: right;\">\n",
       "      <th></th>\n",
       "      <th>cookie</th>\n",
       "      <th>time</th>\n",
       "      <th>interaction</th>\n",
       "      <th>conversion</th>\n",
       "      <th>conversion_value</th>\n",
       "      <th>channel</th>\n",
       "      <th>n_touchpoints</th>\n",
       "      <th>pos_touchpoints</th>\n",
       "      <th>credits</th>\n",
       "    </tr>\n",
       "  </thead>\n",
       "  <tbody>\n",
       "    <tr>\n",
       "      <th>0</th>\n",
       "      <td>0007oEBhnoF97AoEE3BCkFnhB</td>\n",
       "      <td>2018-07-06 13:45:29+00:00</td>\n",
       "      <td>conversion</td>\n",
       "      <td>1</td>\n",
       "      <td>6.5</td>\n",
       "      <td>Paid Search</td>\n",
       "      <td>1</td>\n",
       "      <td>1</td>\n",
       "      <td>1.000000</td>\n",
       "    </tr>\n",
       "    <tr>\n",
       "      <th>1</th>\n",
       "      <td>00090n9EBBEkA000C7Cik999D</td>\n",
       "      <td>2018-07-05 06:53:53+00:00</td>\n",
       "      <td>conversion</td>\n",
       "      <td>1</td>\n",
       "      <td>8.0</td>\n",
       "      <td>Facebook</td>\n",
       "      <td>1</td>\n",
       "      <td>1</td>\n",
       "      <td>1.000000</td>\n",
       "    </tr>\n",
       "    <tr>\n",
       "      <th>2</th>\n",
       "      <td>000h3n9nC0hFhE3CCnkkAof7n</td>\n",
       "      <td>2018-07-19 14:31:57+00:00</td>\n",
       "      <td>conversion</td>\n",
       "      <td>1</td>\n",
       "      <td>6.0</td>\n",
       "      <td>Facebook</td>\n",
       "      <td>1</td>\n",
       "      <td>1</td>\n",
       "      <td>1.000000</td>\n",
       "    </tr>\n",
       "    <tr>\n",
       "      <th>3</th>\n",
       "      <td>000hCBnCB7oi7ADAEnEBCnBEE</td>\n",
       "      <td>2018-07-07 14:34:54+00:00</td>\n",
       "      <td>impression</td>\n",
       "      <td>0</td>\n",
       "      <td>0.0</td>\n",
       "      <td>Online Video</td>\n",
       "      <td>24</td>\n",
       "      <td>1</td>\n",
       "      <td>0.400000</td>\n",
       "    </tr>\n",
       "    <tr>\n",
       "      <th>4</th>\n",
       "      <td>000hCBnCB7oi7ADAEnEBCnBEE</td>\n",
       "      <td>2018-07-07 14:35:22+00:00</td>\n",
       "      <td>impression</td>\n",
       "      <td>0</td>\n",
       "      <td>0.0</td>\n",
       "      <td>Online Video</td>\n",
       "      <td>24</td>\n",
       "      <td>2</td>\n",
       "      <td>0.009091</td>\n",
       "    </tr>\n",
       "  </tbody>\n",
       "</table>\n",
       "</div>"
      ],
      "text/plain": [
       "                      cookie                      time interaction  \\\n",
       "0  0007oEBhnoF97AoEE3BCkFnhB 2018-07-06 13:45:29+00:00  conversion   \n",
       "1  00090n9EBBEkA000C7Cik999D 2018-07-05 06:53:53+00:00  conversion   \n",
       "2  000h3n9nC0hFhE3CCnkkAof7n 2018-07-19 14:31:57+00:00  conversion   \n",
       "3  000hCBnCB7oi7ADAEnEBCnBEE 2018-07-07 14:34:54+00:00  impression   \n",
       "4  000hCBnCB7oi7ADAEnEBCnBEE 2018-07-07 14:35:22+00:00  impression   \n",
       "\n",
       "   conversion  conversion_value       channel  n_touchpoints  pos_touchpoints  \\\n",
       "0           1               6.5   Paid Search              1                1   \n",
       "1           1               8.0      Facebook              1                1   \n",
       "2           1               6.0      Facebook              1                1   \n",
       "3           0               0.0  Online Video             24                1   \n",
       "4           0               0.0  Online Video             24                2   \n",
       "\n",
       "    credits  \n",
       "0  1.000000  \n",
       "1  1.000000  \n",
       "2  1.000000  \n",
       "3  0.400000  \n",
       "4  0.009091  "
      ]
     },
     "execution_count": 22,
     "metadata": {},
     "output_type": "execute_result"
    }
   ],
   "source": [
    "# first and last touchpoint weight, you can adjust here\n",
    "# usually, the weight is set at 40%\n",
    "fl_weight = 0.4\n",
    "\n",
    "# now, we calculate using the formula above\n",
    "for i in range(len(df_pos)):\n",
    "    if df_pos.loc[i, 'n_touchpoints'] == 1:\n",
    "        df_pos.loc[i, 'credits'] = 1\n",
    "    elif df_pos.loc[i, 'n_touchpoints'] == 2:\n",
    "        df_pos.loc[i, 'credits'] = 0.5\n",
    "    else:\n",
    "        if df_pos.loc[i, 'pos_touchpoints'] == 1 or df_pos.loc[i, 'pos_touchpoints'] == df_pos.loc[i, 'n_touchpoints']:\n",
    "            df_pos.loc[i, 'credits'] = fl_weight\n",
    "        else:\n",
    "            df_pos.loc[i, 'credits'] = (1 - (fl_weight * 2)) / (df_pos.loc[i, 'n_touchpoints'] - 2)\n",
    "\n",
    "df_pos.head()"
   ]
  },
  {
   "cell_type": "code",
   "execution_count": 23,
   "metadata": {},
   "outputs": [
    {
     "data": {
      "image/png": "[encoded data removed]",
      "text/plain": [
       "<Figure size 640x480 with 1 Axes>"
      ]
     },
     "metadata": {},
     "output_type": "display_data"
    }
   ],
   "source": [
    "att_pos = pd.DataFrame(df_pos.groupby('channel')['credits'].sum().sort_values(ascending=False))\n",
    "att_pos.plot(kind='bar', rot=45)\n",
    "\n",
    "plt.title('Position-Based Attribution')\n",
    "plt.show()"
   ]
  },
  {
   "cell_type": "markdown",
   "metadata": {},
   "source": []
  },
  {
   "cell_type": "markdown",
   "metadata": {},
   "source": [
    "## 1.6. Evaluation and Comparison of All Types"
   ]
  },
  {
   "cell_type": "code",
   "execution_count": 24,
   "metadata": {},
   "outputs": [
    {
     "data": {
      "text/html": [
       "<div>\n",
       "<style scoped>\n",
       "    .dataframe tbody tr th:only-of-type {\n",
       "        vertical-align: middle;\n",
       "    }\n",
       "\n",
       "    .dataframe tbody tr th {\n",
       "        vertical-align: top;\n",
       "    }\n",
       "\n",
       "    .dataframe thead th {\n",
       "        text-align: right;\n",
       "    }\n",
       "</style>\n",
       "<table border=\"1\" class=\"dataframe\">\n",
       "  <thead>\n",
       "    <tr style=\"text-align: right;\">\n",
       "      <th></th>\n",
       "      <th>att_first</th>\n",
       "      <th>att_last</th>\n",
       "      <th>att_linear</th>\n",
       "      <th>att_time</th>\n",
       "      <th>att_pos</th>\n",
       "    </tr>\n",
       "  </thead>\n",
       "  <tbody>\n",
       "    <tr>\n",
       "      <th>Facebook</th>\n",
       "      <td>5206</td>\n",
       "      <td>5334</td>\n",
       "      <td>5218.90</td>\n",
       "      <td>5259.85</td>\n",
       "      <td>5228.18</td>\n",
       "    </tr>\n",
       "    <tr>\n",
       "      <th>Paid Search</th>\n",
       "      <td>4773</td>\n",
       "      <td>4575</td>\n",
       "      <td>4681.20</td>\n",
       "      <td>4596.19</td>\n",
       "      <td>4664.28</td>\n",
       "    </tr>\n",
       "    <tr>\n",
       "      <th>Online Video</th>\n",
       "      <td>3272</td>\n",
       "      <td>3518</td>\n",
       "      <td>3349.40</td>\n",
       "      <td>3390.67</td>\n",
       "      <td>3323.59</td>\n",
       "    </tr>\n",
       "    <tr>\n",
       "      <th>Instagram</th>\n",
       "      <td>2347</td>\n",
       "      <td>2263</td>\n",
       "      <td>2265.18</td>\n",
       "      <td>2259.40</td>\n",
       "      <td>2281.03</td>\n",
       "    </tr>\n",
       "    <tr>\n",
       "      <th>Online Display</th>\n",
       "      <td>2165</td>\n",
       "      <td>2147</td>\n",
       "      <td>2124.32</td>\n",
       "      <td>2132.90</td>\n",
       "      <td>2141.91</td>\n",
       "    </tr>\n",
       "  </tbody>\n",
       "</table>\n",
       "</div>"
      ],
      "text/plain": [
       "                att_first  att_last  att_linear  att_time  att_pos\n",
       "Facebook             5206      5334     5218.90   5259.85  5228.18\n",
       "Paid Search          4773      4575     4681.20   4596.19  4664.28\n",
       "Online Video         3272      3518     3349.40   3390.67  3323.59\n",
       "Instagram            2347      2263     2265.18   2259.40  2281.03\n",
       "Online Display       2165      2147     2124.32   2132.90  2141.91"
      ]
     },
     "execution_count": 24,
     "metadata": {},
     "output_type": "execute_result"
    }
   ],
   "source": [
    "# combine all attribution modeling into a single dataframe\n",
    "att_all = pd.concat([att_first, att_last, att_linear, att_time, att_pos], \n",
    "                    axis=1,\n",
    "                    keys=['att_first', 'att_last', 'att_linear', 'att_time', 'att_pos'])\n",
    "\n",
    "att_all.columns = att_all.columns.droplevel(1)\n",
    "att_all = round(att_all, 2)\n",
    "\n",
    "att_all "
   ]
  },
  {
   "cell_type": "code",
   "execution_count": 25,
   "metadata": {},
   "outputs": [
    {
     "data": {
      "image/png": "[encoded data removed]",
      "text/plain": [
       "<Figure size 640x480 with 1 Axes>"
      ]
     },
     "metadata": {},
     "output_type": "display_data"
    }
   ],
   "source": [
    "att_all.plot(kind='bar')\n",
    "\n",
    "plt.title('Attribution Credits for All Types of Attribution Modeling')\n",
    "plt.show()"
   ]
  },
  {
   "cell_type": "markdown",
   "metadata": {},
   "source": []
  },
  {
   "cell_type": "markdown",
   "metadata": {},
   "source": [
    "# 2. Attribution Modeling Using Markov Chain\n",
    "\n",
    "Markov chain is a mathematical model that describes a sequence of events where the probability of transitioning to the next state depends only on the current state. In attribution modeling, the states typically represent different marketing channels or touchpoints, and the transitions between states represent the customer journey through these channels. Before moving further, let's get us introduced first with the theory and basic of the Markov Chain method."
   ]
  },
  {
   "cell_type": "markdown",
   "metadata": {},
   "source": [
    "## 2.1. Theory"
   ]
  },
  {
   "cell_type": "markdown",
   "metadata": {},
   "source": [
    "### 2.1.1. Introduction to Markov Chain\n",
    "\n",
    "Certainly! A Markov chain is a `stochastic process` that satisfies the Markov property, which states that the conditional probability distribution of future states depends only on the current state and not on the sequence of events that preceded it. Mathematically, a Markov chain can be defined as follows:\n",
    "\n",
    "1. **State Space**: Let $S = \\{S_1, S_2, \\ldots, S_n\\}$ be the finite set of states in the Markov chain.\n",
    "2. **Transition Probability Matrix**: Let $P = [p_{ij}]$ be the transition probability matrix, where $p_{ij}$ represents the probability of transitioning from state $S_i$ to state $S_j$. The matrix $P$ has the property that for each row $i$, $\\sum_{j=1}^n p_{ij} = 1$, since the probabilities of transitioning to all possible states from state $S_i$ must sum to 1.\n",
    "3. **Initial State Probability Vector**: Let $\\pi = [\\pi_1, \\pi_2, \\ldots, \\pi_n]$ be the initial state probability vector, where $\\pi_i$ represents the probability of starting the chain in state $S_i$. The vector $\\pi$ has the property that $\\sum_{i=1}^n \\pi_i = 1$.\n",
    "\n",
    "Given the transition probability matrix $P$ and the initial state probability vector $\\pi$, the probability of the chain being in state $S_j$ after $k$ steps (denoted as $P(X_k = S_j)$) can be calculated as:\n",
    "\n",
    "$P(X_k = S_j) = \\sum_{i=1}^n \\pi_i \\cdot p_{ij}^k$\n",
    "\n",
    "This formula represents the probability of transitioning from all possible initial states $S_i$ to state $S_j$ in exactly $k$ steps."
   ]
  },
  {
   "cell_type": "markdown",
   "metadata": {},
   "source": [
    "### 2.1.2. Markov Chain as Stochastic Process\n",
    "\n",
    "You might notice in the definition of Markov Chain that it is a stochastic process. However, **what does it mean by stochastic process?**\n",
    "\n",
    "A stochastic process is a mathematical model that describes the evolution of a system over time where outcomes are partially random. In other words, it is a collection of random variables representing the evolution of some system over time or space. In the context of a Markov chain, it is a specific type of stochastic process where the next state of the system depends only on the current state and not on the sequence of events that preceded it. This property is known as the Markov property, and it simplifies the modeling of complex systems by focusing on the current state and its immediate implications, rather than considering the entire history of the system."
   ]
  },
  {
   "cell_type": "markdown",
   "metadata": {},
   "source": [
    "### 2.1.3. Example of Markov Chain\n",
    "\n",
    "To understand more about markov chain, let's take a look at the example below:\n",
    "\n",
    "<figure>\n",
    "  <img src=\"images/markov-state-ex.png\" alt=\"Example of Markov Chain diagram\" width=\"800\"/>\n",
    "  <figcaption>Taken from: <a href=\"https://en.m.wikipedia.org/wiki/File:Finance_Markov_chain_example_state_space.svg\">Wikipedia</a></figcaption>\n",
    "</figure>\n",
    "\n",
    "Consider creating a model for stock market fluctuations using the Markov chain. In this model, you would define scenarios such as \"bullish,\" \"bearish,\" and \"stagnant\" as distinct states representing the various conditions the stock market can exhibit. These states, along with other behaviors, constitute what is known as a ‘state space’ — essentially, a comprehensive list of all possible situations the stock market could experience. The Markov chain then aids in determining the probability of the stock market transitioning from one state to another. For instance, it could help ascertain the likelihood of a bullish stock market transitioning to a bearish state in the next period."
   ]
  },
  {
   "cell_type": "markdown",
   "metadata": {},
   "source": [
    "### 2.1.4. Transition Matrix\n",
    "\n",
    "In practice, modelers typically use a \"transition matrix\" to represent Markov chains instead of drawing diagrams. This matrix lists every state in the state space as both a row and a column. Each cell in the matrix indicates the probability of transitioning from the state corresponding to its row to the state corresponding to its column. Essentially, the cells in the matrix serve the same purpose as the arrows in the diagram. Take a look at the example below between movemenet from two states, A and B.\n",
    "\n",
    "<figure>\n",
    "  <img src=\"images/transition-matrix.png\" alt=\"Transition Matrix\" width=\"800\"/>\n",
    "  <figcaption>Taken from: <a href=\"https://setosa.io/ev/markov-chains/\">setosa.io</a></figcaption>\n",
    "</figure>\n",
    "\n",
    "When a new state is added to the state space in a Markov chain, we must add one row and one column to the transition matrix, resulting in one additional cell for each existing column and row. This leads to a quadratic increase in the number of cells as we add more states to the Markov chain. Consequently, using a transition matrix becomes much more practical than attempting to represent the chain with a complex diagram as the number of states grows."
   ]
  },
  {
   "cell_type": "markdown",
   "metadata": {},
   "source": [
    "### 2.1.5. Removal Effect\n",
    "\n",
    "The main essence of Markov Model is the Removal Effect. It refers to the impact of removing or excluding a particular state from the state space of the Markov chain. When a state is removed, the dynamics of the Markov chain change, potentially altering the probabilities of transitioning between other states.\n",
    "\n",
    "In the attribution modeling, removal effect helps us to measure how much each marketing channel contributes to generating conversions. We achieve this by systematically taking out each channel from the overall picture and observing the resulting impact on conversions. The greater the impact, the more value is assigned to that specific channel. This process is repeated for each channel, allowing us to gauge their influence on conversions.\n",
    "\n",
    "#### 2.1.5.1 Example 1\n",
    "\n",
    "Let's take a look at the example from <a href='https://medium.com/@akanksha.etc302/attribution-modeling-using-markov-chain-88fc6c0a499e'>Akanksha Anand article on Medium</a> to compute the Removal Effect, we begin by figuring out the likelihood of all paths leading to conversions. The table below illustrates this, including the overall probability of conversion considering all possible paths. When we add up all the probabilities, we find that the total likelihood of conversion is approximately 64%.\n",
    "\n",
    "| Sequence| Path| Calculation  | Probability |\n",
    "|---|---|---|---|\n",
    "| Path1 | Start > Email > Conversions| 70% x 50% | 0.35 |\n",
    "| Path2 | Start > Email > Display > Social > Conversions | 70% x 50% x 50% x 90% | 0.1575 |\n",
    "| Path3 | Start > Display > Social > Conversions | 30% x 50% x 90% | 0.135       |\n",
    "| | All Paths | | 0.6425 |\n",
    "\n",
    "After calculating the conversion probability, we can begin eliminating each channel individually to compute the removal effect using the formula below:\n",
    "\n",
    "$\\text{Removal Effect} = 1 - (\\frac{\\text{path\\_probability}}{\\text{total\\_probability}})$\n",
    "\n",
    "| Sequence | Probability | Without Email | Without Display | Without Social |\n",
    "|---|---|---|---|---|\n",
    "| Path1 | 0.35 | N | Y (1-(0.35/0.6425) = 0.46) | Y (1-(0.35/0.6425) = 0.46) |\n",
    "| Path2 | 0.1575 | N | N | N |\n",
    "| Path3 | 0.135 | Y (1-(0.135/0.6425) = 0.79) | N | N |\n",
    "\n",
    "Referring to the table above, removing Email from the marketing channel would impact 79% of conversions. Likewise, eliminating Display and Social would result in a 46% decrease in conversions. To simplify the interpretation, we can **standardize the Removal Effect, which directly reflects the percentage of the total value attributed to the channel.**\n",
    "\n",
    "| Channel | Removal Effect | Normalized Removal Effect |\n",
    "|---|---|---|\n",
    "| Email | 0.79 | 0.46 |\n",
    "| Display | 0.46 | 0.27 |\n",
    "| Social | 0.46 | 0.27 |\n",
    "| Total | 1.71 | 1.00 |\n",
    "\n",
    "**Note:** The sum of the normalized removal effects (0.46 + 0.27 + 0.27) is 1.00, which should be in the total cell. "
   ]
  },
  {
   "cell_type": "markdown",
   "metadata": {},
   "source": [
    "#### 2.1.5.1 Example 2\n",
    "\n",
    "If you're still unsure about the process, consider this example from <a href='https://medium.com/@aditya2590/multi-channel-attribution-modelling-with-markov-chains-fbf3bdab2ca8'>Aditya Saxena's article on Medium</a>. Let's imagine we have three customers, each navigating through various channels until they either completed a conversion or did not.\n",
    "\n",
    "| Customer | Channels | Converted |\n",
    "|---|---|---|\n",
    "| Customer 1 | C1 -> C2 -> C3 | Yes |\n",
    "| Customer 2 | C1 | No |\n",
    "| Customer 3 | C2 -> C3 | No |\n",
    "\n",
    "Based on the table above, we can create a transition matrix as follows:\n",
    "\n",
    "| Start | c1   | c2   | c3   | yes  | no   |\n",
    "|-------|------|------|------|------|------|\n",
    "| **Start** | 0.00 | 0.67 | 0.33 | 0.00 | 0.00 |\n",
    "| c1    | 0.00 | 0.50 | 0.00 | 0.00 | 0.50 |\n",
    "| c2    | 0.00 | 0.00 | 0.00 | 1.00 | 0.00 |\n",
    "| c3    | 0.00 | 0.00 | 0.00 | 0.50 | 0.50 |\n",
    "| yes   | 0.00 | 0.00 | 0.00 | 0.00 | 0.00 |\n",
    "| no    | 0.00 | 0.00 | 0.00 | 0.00 | 0.00 |\n",
    "\n",
    "To interpret the table above, we can treat the index as the previous state and the columns as the current state. For example, the probability of a user transitioning from the \"start\" state to the \"c2\" state is 0.67. The sum of probabilities in each row should equal 1. However, for \"yes\" and \"no\" state, we can put the probability as zero as they're the final state of every path. We can represent this in a diagram as follows:\n",
    "\n",
    "<img src=\"images/transition-diagram.png\" alt=\"Transition Diagram Example\" width=\"800\"/>\n",
    "\n",
    "Now, let's get our hands dirty by doing practice with the previous data that we have!"
   ]
  },
  {
   "cell_type": "markdown",
   "metadata": {},
   "source": [
    "## 2.2. Practice"
   ]
  },
  {
   "cell_type": "code",
   "execution_count": 26,
   "metadata": {},
   "outputs": [
    {
     "data": {
      "text/html": [
       "<div>\n",
       "<style scoped>\n",
       "    .dataframe tbody tr th:only-of-type {\n",
       "        vertical-align: middle;\n",
       "    }\n",
       "\n",
       "    .dataframe tbody tr th {\n",
       "        vertical-align: top;\n",
       "    }\n",
       "\n",
       "    .dataframe thead th {\n",
       "        text-align: right;\n",
       "    }\n",
       "</style>\n",
       "<table border=\"1\" class=\"dataframe\">\n",
       "  <thead>\n",
       "    <tr style=\"text-align: right;\">\n",
       "      <th></th>\n",
       "      <th>cookie</th>\n",
       "      <th>time</th>\n",
       "      <th>interaction</th>\n",
       "      <th>conversion</th>\n",
       "      <th>conversion_value</th>\n",
       "      <th>channel</th>\n",
       "    </tr>\n",
       "  </thead>\n",
       "  <tbody>\n",
       "    <tr>\n",
       "      <th>0</th>\n",
       "      <td>00000FkCnDfDDf0iC97iC703B</td>\n",
       "      <td>2018-07-03 13:02:11+00:00</td>\n",
       "      <td>impression</td>\n",
       "      <td>0</td>\n",
       "      <td>0.0</td>\n",
       "      <td>Instagram</td>\n",
       "    </tr>\n",
       "    <tr>\n",
       "      <th>1</th>\n",
       "      <td>00000FkCnDfDDf0iC97iC703B</td>\n",
       "      <td>2018-07-17 19:15:07+00:00</td>\n",
       "      <td>impression</td>\n",
       "      <td>0</td>\n",
       "      <td>0.0</td>\n",
       "      <td>Online Display</td>\n",
       "    </tr>\n",
       "    <tr>\n",
       "      <th>2</th>\n",
       "      <td>00000FkCnDfDDf0iC97iC703B</td>\n",
       "      <td>2018-07-24 15:51:46+00:00</td>\n",
       "      <td>impression</td>\n",
       "      <td>0</td>\n",
       "      <td>0.0</td>\n",
       "      <td>Online Display</td>\n",
       "    </tr>\n",
       "    <tr>\n",
       "      <th>3</th>\n",
       "      <td>00000FkCnDfDDf0iC97iC703B</td>\n",
       "      <td>2018-07-29 07:44:51+00:00</td>\n",
       "      <td>impression</td>\n",
       "      <td>0</td>\n",
       "      <td>0.0</td>\n",
       "      <td>Online Display</td>\n",
       "    </tr>\n",
       "    <tr>\n",
       "      <th>4</th>\n",
       "      <td>0000nACkD9nFkBBDECD3ki00E</td>\n",
       "      <td>2018-07-03 09:44:57+00:00</td>\n",
       "      <td>impression</td>\n",
       "      <td>0</td>\n",
       "      <td>0.0</td>\n",
       "      <td>Paid Search</td>\n",
       "    </tr>\n",
       "  </tbody>\n",
       "</table>\n",
       "</div>"
      ],
      "text/plain": [
       "                      cookie                      time interaction  \\\n",
       "0  00000FkCnDfDDf0iC97iC703B 2018-07-03 13:02:11+00:00  impression   \n",
       "1  00000FkCnDfDDf0iC97iC703B 2018-07-17 19:15:07+00:00  impression   \n",
       "2  00000FkCnDfDDf0iC97iC703B 2018-07-24 15:51:46+00:00  impression   \n",
       "3  00000FkCnDfDDf0iC97iC703B 2018-07-29 07:44:51+00:00  impression   \n",
       "4  0000nACkD9nFkBBDECD3ki00E 2018-07-03 09:44:57+00:00  impression   \n",
       "\n",
       "   conversion  conversion_value         channel  \n",
       "0           0               0.0       Instagram  \n",
       "1           0               0.0  Online Display  \n",
       "2           0               0.0  Online Display  \n",
       "3           0               0.0  Online Display  \n",
       "4           0               0.0     Paid Search  "
      ]
     },
     "metadata": {},
     "output_type": "display_data"
    },
    {
     "name": "stdout",
     "output_type": "stream",
     "text": [
      "number of records of the dataframe: 586737\n"
     ]
    }
   ],
   "source": [
    "# display dataframe snippet as a refresher\n",
    "\n",
    "display(df.head())\n",
    "print('number of records of the dataframe:', len(df))"
   ]
  },
  {
   "cell_type": "markdown",
   "metadata": {},
   "source": [
    "### 2.2.1. Data Preprocessing"
   ]
  },
  {
   "cell_type": "code",
   "execution_count": 27,
   "metadata": {},
   "outputs": [
    {
     "data": {
      "text/html": [
       "<div>\n",
       "<style scoped>\n",
       "    .dataframe tbody tr th:only-of-type {\n",
       "        vertical-align: middle;\n",
       "    }\n",
       "\n",
       "    .dataframe tbody tr th {\n",
       "        vertical-align: top;\n",
       "    }\n",
       "\n",
       "    .dataframe thead th {\n",
       "        text-align: right;\n",
       "    }\n",
       "</style>\n",
       "<table border=\"1\" class=\"dataframe\">\n",
       "  <thead>\n",
       "    <tr style=\"text-align: right;\">\n",
       "      <th></th>\n",
       "      <th>cookie</th>\n",
       "      <th>time</th>\n",
       "      <th>interaction</th>\n",
       "      <th>conversion</th>\n",
       "      <th>conversion_value</th>\n",
       "      <th>channel</th>\n",
       "      <th>state_pos</th>\n",
       "    </tr>\n",
       "  </thead>\n",
       "  <tbody>\n",
       "    <tr>\n",
       "      <th>0</th>\n",
       "      <td>00000FkCnDfDDf0iC97iC703B</td>\n",
       "      <td>2018-07-03 13:02:11+00:00</td>\n",
       "      <td>impression</td>\n",
       "      <td>0</td>\n",
       "      <td>0.0</td>\n",
       "      <td>Instagram</td>\n",
       "      <td>1</td>\n",
       "    </tr>\n",
       "    <tr>\n",
       "      <th>1</th>\n",
       "      <td>00000FkCnDfDDf0iC97iC703B</td>\n",
       "      <td>2018-07-17 19:15:07+00:00</td>\n",
       "      <td>impression</td>\n",
       "      <td>0</td>\n",
       "      <td>0.0</td>\n",
       "      <td>Online Display</td>\n",
       "      <td>2</td>\n",
       "    </tr>\n",
       "    <tr>\n",
       "      <th>2</th>\n",
       "      <td>00000FkCnDfDDf0iC97iC703B</td>\n",
       "      <td>2018-07-24 15:51:46+00:00</td>\n",
       "      <td>impression</td>\n",
       "      <td>0</td>\n",
       "      <td>0.0</td>\n",
       "      <td>Online Display</td>\n",
       "      <td>3</td>\n",
       "    </tr>\n",
       "    <tr>\n",
       "      <th>3</th>\n",
       "      <td>00000FkCnDfDDf0iC97iC703B</td>\n",
       "      <td>2018-07-29 07:44:51+00:00</td>\n",
       "      <td>impression</td>\n",
       "      <td>0</td>\n",
       "      <td>0.0</td>\n",
       "      <td>Online Display</td>\n",
       "      <td>4</td>\n",
       "    </tr>\n",
       "    <tr>\n",
       "      <th>4</th>\n",
       "      <td>0000nACkD9nFkBBDECD3ki00E</td>\n",
       "      <td>2018-07-03 09:44:57+00:00</td>\n",
       "      <td>impression</td>\n",
       "      <td>0</td>\n",
       "      <td>0.0</td>\n",
       "      <td>Paid Search</td>\n",
       "      <td>1</td>\n",
       "    </tr>\n",
       "  </tbody>\n",
       "</table>\n",
       "</div>"
      ],
      "text/plain": [
       "                      cookie                      time interaction  \\\n",
       "0  00000FkCnDfDDf0iC97iC703B 2018-07-03 13:02:11+00:00  impression   \n",
       "1  00000FkCnDfDDf0iC97iC703B 2018-07-17 19:15:07+00:00  impression   \n",
       "2  00000FkCnDfDDf0iC97iC703B 2018-07-24 15:51:46+00:00  impression   \n",
       "3  00000FkCnDfDDf0iC97iC703B 2018-07-29 07:44:51+00:00  impression   \n",
       "4  0000nACkD9nFkBBDECD3ki00E 2018-07-03 09:44:57+00:00  impression   \n",
       "\n",
       "   conversion  conversion_value         channel  state_pos  \n",
       "0           0               0.0       Instagram          1  \n",
       "1           0               0.0  Online Display          2  \n",
       "2           0               0.0  Online Display          3  \n",
       "3           0               0.0  Online Display          4  \n",
       "4           0               0.0     Paid Search          1  "
      ]
     },
     "execution_count": 27,
     "metadata": {},
     "output_type": "execute_result"
    }
   ],
   "source": [
    "df_markov = df.copy(deep=True)\n",
    "\n",
    "df_markov = df_markov.sort_values(['cookie', 'time'])\n",
    "df_markov['state_pos'] = df_markov.groupby('cookie').cumcount() + 1\n",
    "\n",
    "df_markov.head()"
   ]
  },
  {
   "cell_type": "code",
   "execution_count": 170,
   "metadata": {},
   "outputs": [
    {
     "data": {
      "text/html": [
       "<div>\n",
       "<style scoped>\n",
       "    .dataframe tbody tr th:only-of-type {\n",
       "        vertical-align: middle;\n",
       "    }\n",
       "\n",
       "    .dataframe tbody tr th {\n",
       "        vertical-align: top;\n",
       "    }\n",
       "\n",
       "    .dataframe thead th {\n",
       "        text-align: right;\n",
       "    }\n",
       "</style>\n",
       "<table border=\"1\" class=\"dataframe\">\n",
       "  <thead>\n",
       "    <tr style=\"text-align: right;\">\n",
       "      <th></th>\n",
       "      <th>cookie</th>\n",
       "      <th>conversion</th>\n",
       "      <th>paths</th>\n",
       "    </tr>\n",
       "  </thead>\n",
       "  <tbody>\n",
       "    <tr>\n",
       "      <th>0</th>\n",
       "      <td>00000FkCnDfDDf0iC97iC703B</td>\n",
       "      <td>0</td>\n",
       "      <td>[Start, Instagram, Online Display, Online Disp...</td>\n",
       "    </tr>\n",
       "    <tr>\n",
       "      <th>1</th>\n",
       "      <td>0000nACkD9nFkBBDECD3ki00E</td>\n",
       "      <td>0</td>\n",
       "      <td>[Start, Paid Search, Paid Search, Paid Search,...</td>\n",
       "    </tr>\n",
       "    <tr>\n",
       "      <th>2</th>\n",
       "      <td>0003EfE37E93D0BC03iBhBBhF</td>\n",
       "      <td>0</td>\n",
       "      <td>[Start, Paid Search, Paid Search, Paid Search,...</td>\n",
       "    </tr>\n",
       "    <tr>\n",
       "      <th>3</th>\n",
       "      <td>00073CFE3FoFCn70fBhB3kfon</td>\n",
       "      <td>0</td>\n",
       "      <td>[Start, Instagram, No_Conv]</td>\n",
       "    </tr>\n",
       "    <tr>\n",
       "      <th>4</th>\n",
       "      <td>00079hhBkDF3k3kDkiFi9EFAD</td>\n",
       "      <td>0</td>\n",
       "      <td>[Start, Paid Search, No_Conv]</td>\n",
       "    </tr>\n",
       "  </tbody>\n",
       "</table>\n",
       "</div>"
      ],
      "text/plain": [
       "                      cookie  conversion  \\\n",
       "0  00000FkCnDfDDf0iC97iC703B           0   \n",
       "1  0000nACkD9nFkBBDECD3ki00E           0   \n",
       "2  0003EfE37E93D0BC03iBhBBhF           0   \n",
       "3  00073CFE3FoFCn70fBhB3kfon           0   \n",
       "4  00079hhBkDF3k3kDkiFi9EFAD           0   \n",
       "\n",
       "                                               paths  \n",
       "0  [Start, Instagram, Online Display, Online Disp...  \n",
       "1  [Start, Paid Search, Paid Search, Paid Search,...  \n",
       "2  [Start, Paid Search, Paid Search, Paid Search,...  \n",
       "3                        [Start, Instagram, No_Conv]  \n",
       "4                      [Start, Paid Search, No_Conv]  "
      ]
     },
     "execution_count": 170,
     "metadata": {},
     "output_type": "execute_result"
    }
   ],
   "source": [
    "# create df_conversion, showing whether a user convert or not convert\n",
    "df_conversion = df_markov.drop_duplicates('cookie', keep='last')[['cookie', 'conversion']]\n",
    "\n",
    "# groupby cookie and concat all strings as 'paths' column to show the path a user went through\n",
    "df_paths = df_markov.groupby('cookie').agg(paths=('channel', lambda x: ', '.join(map(str, x))))\n",
    "\n",
    "# merge with df_conversion and reset index\n",
    "df_paths = pd.merge(df_conversion, df_paths, left_on='cookie', right_index=True)\n",
    "df_paths = df_paths.reset_index(drop=True)\n",
    "\n",
    "# concat \"start\" at the beginning of the path\n",
    "# if no conversion made, we append \"no_conv\", otherwise \"conv\"\n",
    "df_paths['paths'] = np.where(\n",
    "    df_paths['conversion'] == 0,\n",
    "    'Start, ' + df_paths['paths'] + ', No_Conv',\n",
    "    'Start, ' + df_paths['paths'] + ', Conv'\n",
    ")\n",
    "\n",
    "# finalize the 'paths' column by converting it into a list\n",
    "df_paths['paths'] = df_paths['paths'].str.split(', ')\n",
    "\n",
    "df_paths.head()"
   ]
  },
  {
   "cell_type": "markdown",
   "metadata": {},
   "source": [
    "### 2.2.2. Markov Chain Analysis"
   ]
  },
  {
   "cell_type": "markdown",
   "metadata": {},
   "source": [
    "1. **Calculate the conversion rate first.** Easy. We can just calculate total number of conversions divided by number of paths. Mathemtical notation is shown as follow:\n",
    "\n",
    "- $\\text{Conversion Rate} = \\frac{\\text{Total conversions}}{\\text{Total number of paths}}$"
   ]
  },
  {
   "cell_type": "code",
   "execution_count": 171,
   "metadata": {},
   "outputs": [
    {
     "data": {
      "text/plain": [
       "0.07346277508454528"
      ]
     },
     "execution_count": 171,
     "metadata": {},
     "output_type": "execute_result"
    }
   ],
   "source": [
    "paths_list = df_paths['paths']\n",
    "total_conv = sum(path.count('Conv') for path in df_paths['paths'])\n",
    "conv_rate = total_conv / len(paths_list)\n",
    "\n",
    "conv_rate"
   ]
  },
  {
   "cell_type": "markdown",
   "metadata": {},
   "source": [
    "2. **Generate the unique combinations of user journeys possible with the available set of channels.** These unique journey combinations are used to create transition_states, where each combination is assigned a value of 0."
   ]
  },
  {
   "cell_type": "code",
   "execution_count": 172,
   "metadata": {},
   "outputs": [
    {
     "name": "stdout",
     "output_type": "stream",
     "text": [
      "{'Conv', 'Instagram', 'Facebook', 'Start', 'No_Conv', 'Online Video', 'Online Display', 'Paid Search'}\n",
      "{'Conv>Conv': 0, 'Conv>Instagram': 0, 'Conv>Facebook': 0, 'Conv>Start': 0, 'Conv>No_Conv': 0, 'Conv>Online Video': 0, 'Conv>Online Display': 0, 'Conv>Paid Search': 0, 'Instagram>Conv': 0, 'Instagram>Instagram': 0, 'Instagram>Facebook': 0, 'Instagram>Start': 0, 'Instagram>No_Conv': 0, 'Instagram>Online Video': 0, 'Instagram>Online Display': 0, 'Instagram>Paid Search': 0, 'Facebook>Conv': 0, 'Facebook>Instagram': 0, 'Facebook>Facebook': 0, 'Facebook>Start': 0, 'Facebook>No_Conv': 0, 'Facebook>Online Video': 0, 'Facebook>Online Display': 0, 'Facebook>Paid Search': 0, 'Start>Conv': 0, 'Start>Instagram': 0, 'Start>Facebook': 0, 'Start>Start': 0, 'Start>No_Conv': 0, 'Start>Online Video': 0, 'Start>Online Display': 0, 'Start>Paid Search': 0, 'No_Conv>Conv': 0, 'No_Conv>Instagram': 0, 'No_Conv>Facebook': 0, 'No_Conv>Start': 0, 'No_Conv>No_Conv': 0, 'No_Conv>Online Video': 0, 'No_Conv>Online Display': 0, 'No_Conv>Paid Search': 0, 'Online Video>Conv': 0, 'Online Video>Instagram': 0, 'Online Video>Facebook': 0, 'Online Video>Start': 0, 'Online Video>No_Conv': 0, 'Online Video>Online Video': 0, 'Online Video>Online Display': 0, 'Online Video>Paid Search': 0, 'Online Display>Conv': 0, 'Online Display>Instagram': 0, 'Online Display>Facebook': 0, 'Online Display>Start': 0, 'Online Display>No_Conv': 0, 'Online Display>Online Video': 0, 'Online Display>Online Display': 0, 'Online Display>Paid Search': 0, 'Paid Search>Conv': 0, 'Paid Search>Instagram': 0, 'Paid Search>Facebook': 0, 'Paid Search>Start': 0, 'Paid Search>No_Conv': 0, 'Paid Search>Online Video': 0, 'Paid Search>Online Display': 0, 'Paid Search>Paid Search': 0}\n"
     ]
    }
   ],
   "source": [
    "# make a set of all unique channel list for creating transition states\n",
    "unique_channel_list = set(x for element in paths_list for x in element)\n",
    "\n",
    "# create transition states from the unique channel list, and assign the value with 0 first\n",
    "transition_states = {x + '>' + y: 0 for x in unique_channel_list for y in unique_channel_list}\n",
    "\n",
    "# check what inside both of the objects\n",
    "print(unique_channel_list)\n",
    "print(transition_states)"
   ]
  },
  {
   "cell_type": "markdown",
   "metadata": {},
   "source": [
    "3. **Update the transition_states** variable based on the occurrences in the dataset."
   ]
  },
  {
   "cell_type": "code",
   "execution_count": 173,
   "metadata": {},
   "outputs": [],
   "source": [
    "for possible_state in unique_channel_list:\n",
    "    # exclude conversion / no_conversion values from the calculations.\n",
    "    if possible_state not in ['Conv', 'No_Conv']:\n",
    "        # iterates over the path list we have\n",
    "        for user_path in paths_list:\n",
    "            # checks if the possible_state is present in the current user_path\n",
    "            if possible_state in user_path:\n",
    "                # creates a list indices that contains the indices of the user_path where possible_state occurs.\n",
    "                indices = [i for i, s in enumerate(user_path) if possible_state in s]\n",
    "                for col in indices:\n",
    "                    # updates the transition_states dictionary. \n",
    "                    # extracts the current channel (user_path[col]) and the next channel (user_path[col + 1]) from the user_path, \n",
    "                    # concatenates them with '>', and uses the result as a key in the transition_states dictionary. \n",
    "                    # then increments the value associated with that key by 1, indicating the transition from the current channel to the next channel.\n",
    "                    transition_states[user_path[col] + '>' + user_path[col + 1]] += 1"
   ]
  },
  {
   "cell_type": "markdown",
   "metadata": {},
   "source": [
    "4. **Calculate the transition probabilities** by iterating through all the paths taken by a user. For each path, we calculate the ratio of favorable outcomes to the total number of possible outcomes."
   ]
  },
  {
   "cell_type": "code",
   "execution_count": 187,
   "metadata": {},
   "outputs": [
    {
     "data": {
      "text/plain": [
       "defaultdict(dict,\n",
       "            {'Instagram>Conv': 0.0298400287230223,\n",
       "             'Instagram>Instagram': 0.15958564380792808,\n",
       "             'Instagram>Facebook': 0.3725216419994415,\n",
       "             'Instagram>No_Conv': 0.3637717583542772,\n",
       "             'Instagram>Online Video': 0.022247044587173043,\n",
       "             'Instagram>Online Display': 0.018683262190662357,\n",
       "             'Instagram>Paid Search': 0.033350620337495515,\n",
       "             'Facebook>Conv': 0.030163706818556853,\n",
       "             'Facebook>Instagram': 0.15939365316004803,\n",
       "             'Facebook>Facebook': 0.3731400185500253,\n",
       "             'Facebook>No_Conv': 0.36310821037777186,\n",
       "             'Facebook>Online Video': 0.021986901178438725,\n",
       "             'Facebook>Online Display': 0.01819723342873888,\n",
       "             'Facebook>Paid Search': 0.034010276486420354,\n",
       "             'Start>Instagram': 0.11918803205224315,\n",
       "             'Start>Facebook': 0.2784080497109634,\n",
       "             'Start>Online Video': 0.14236093757808985,\n",
       "             'Start>Online Display': 0.14264414346877238,\n",
       "             'Start>Paid Search': 0.31739883718993117,\n",
       "             'Online Video>Conv': 0.030078904167622815,\n",
       "             'Online Video>Instagram': 0.01449224197278071,\n",
       "             'Online Video>Facebook': 0.03476549398951475,\n",
       "             'Online Video>No_Conv': 0.28003036133519266,\n",
       "             'Online Video>Online Video': 0.6060616758750949,\n",
       "             'Online Video>Online Display': 0.009893911846216307,\n",
       "             'Online Video>Paid Search': 0.024677410813577872,\n",
       "             'Online Display>Conv': 0.03010428834813449,\n",
       "             'Online Display>Instagram': 0.021068779643364812,\n",
       "             'Online Display>Facebook': 0.04899159782134463,\n",
       "             'Online Display>No_Conv': 0.45702503764795294,\n",
       "             'Online Display>Online Video': 0.01645250728329557,\n",
       "             'Online Display>Online Display': 0.3490070792225522,\n",
       "             'Online Display>Paid Search': 0.07735071003335538,\n",
       "             'Paid Search>Conv': 0.030025092445853142,\n",
       "             'Paid Search>Instagram': 0.022655837295298468,\n",
       "             'Paid Search>Facebook': 0.052053618594823034,\n",
       "             'Paid Search>No_Conv': 0.44307316428948756,\n",
       "             'Paid Search>Online Video': 0.024735868991019545,\n",
       "             'Paid Search>Online Display': 0.04147517168515584,\n",
       "             'Paid Search>Paid Search': 0.38598124669836237})"
      ]
     },
     "execution_count": 187,
     "metadata": {},
     "output_type": "execute_result"
    }
   ],
   "source": [
    "from collections import defaultdict\n",
    "\n",
    "# imports the defaultdict class from the collections module. \n",
    "# defaultdict is a subclass of the built-in dict class that allows you to provide a default value for new keys\n",
    "# in defaultdict, when you try to access a key that doesn't exist, it will create the key and initialize it with the default value\n",
    "transition_prob = defaultdict(dict)\n",
    "\n",
    "for state in unique_channel_list:\n",
    "    # exclude conversion and no_conversion state from the calculation\n",
    "    if state not in ['Conv', 'No_Conv']:\n",
    "        # counter, used to calculate the total number of transitions involving the current state.\n",
    "        counter = 0\n",
    "        index = [i for i, s in enumerate(transition_states) if state + '>' in s]\n",
    "        \n",
    "        # first iteration, to count the number of transitions for the current transition state\n",
    "        for col in index:\n",
    "            # if the transition count for the current transition state is greater than 0\n",
    "            # increments the counter by the number of transitions for the current transition state\n",
    "            if transition_states[list(transition_states)[col]] > 0:\n",
    "                counter += transition_states[list(transition_states)[col]]\n",
    "        \n",
    "        # restart the iteration, to keep the counter \n",
    "        for col in index:\n",
    "            # calculates the transition probability for the current transition state\n",
    "            # it divides the number of transitions for the current state by the total number of transitions involving the current state\n",
    "            if transition_states[list(transition_states)[col]] > 0:\n",
    "                state_prob = float((transition_states[list(transition_states)[col]])) / float(counter)\n",
    "                transition_prob[list(transition_states)[col]] = state_prob\n",
    "\n",
    "transition_prob"
   ]
  },
  {
   "cell_type": "markdown",
   "metadata": {},
   "source": [
    "5. Before delving into calculating the Removal Effect, we **calculate the transition matrix** by using matrix manipulations to calculate the probabilities after the removal of each channel. To do this, we create a new dataset called transition_matrix, where each entry is assigned the transition probability calculated in the previous step."
   ]
  },
  {
   "cell_type": "code",
   "execution_count": 185,
   "metadata": {},
   "outputs": [
    {
     "data": {
      "text/html": [
       "<div>\n",
       "<style scoped>\n",
       "    .dataframe tbody tr th:only-of-type {\n",
       "        vertical-align: middle;\n",
       "    }\n",
       "\n",
       "    .dataframe tbody tr th {\n",
       "        vertical-align: top;\n",
       "    }\n",
       "\n",
       "    .dataframe thead th {\n",
       "        text-align: right;\n",
       "    }\n",
       "</style>\n",
       "<table border=\"1\" class=\"dataframe\">\n",
       "  <thead>\n",
       "    <tr style=\"text-align: right;\">\n",
       "      <th></th>\n",
       "      <th>Start</th>\n",
       "      <th>Instagram</th>\n",
       "      <th>Facebook</th>\n",
       "      <th>Online Video</th>\n",
       "      <th>Online Display</th>\n",
       "      <th>Paid Search</th>\n",
       "      <th>Conv</th>\n",
       "      <th>No_Conv</th>\n",
       "    </tr>\n",
       "  </thead>\n",
       "  <tbody>\n",
       "    <tr>\n",
       "      <th>Start</th>\n",
       "      <td>0.0</td>\n",
       "      <td>0.119188</td>\n",
       "      <td>0.278408</td>\n",
       "      <td>0.142361</td>\n",
       "      <td>0.142644</td>\n",
       "      <td>0.317399</td>\n",
       "      <td>0.000000</td>\n",
       "      <td>0.000000</td>\n",
       "    </tr>\n",
       "    <tr>\n",
       "      <th>Instagram</th>\n",
       "      <td>0.0</td>\n",
       "      <td>0.159586</td>\n",
       "      <td>0.372522</td>\n",
       "      <td>0.022247</td>\n",
       "      <td>0.018683</td>\n",
       "      <td>0.033351</td>\n",
       "      <td>0.029840</td>\n",
       "      <td>0.363772</td>\n",
       "    </tr>\n",
       "    <tr>\n",
       "      <th>Facebook</th>\n",
       "      <td>0.0</td>\n",
       "      <td>0.159394</td>\n",
       "      <td>0.373140</td>\n",
       "      <td>0.021987</td>\n",
       "      <td>0.018197</td>\n",
       "      <td>0.034010</td>\n",
       "      <td>0.030164</td>\n",
       "      <td>0.363108</td>\n",
       "    </tr>\n",
       "    <tr>\n",
       "      <th>Online Video</th>\n",
       "      <td>0.0</td>\n",
       "      <td>0.014492</td>\n",
       "      <td>0.034765</td>\n",
       "      <td>0.606062</td>\n",
       "      <td>0.009894</td>\n",
       "      <td>0.024677</td>\n",
       "      <td>0.030079</td>\n",
       "      <td>0.280030</td>\n",
       "    </tr>\n",
       "    <tr>\n",
       "      <th>Online Display</th>\n",
       "      <td>0.0</td>\n",
       "      <td>0.021069</td>\n",
       "      <td>0.048992</td>\n",
       "      <td>0.016453</td>\n",
       "      <td>0.349007</td>\n",
       "      <td>0.077351</td>\n",
       "      <td>0.030104</td>\n",
       "      <td>0.457025</td>\n",
       "    </tr>\n",
       "    <tr>\n",
       "      <th>Paid Search</th>\n",
       "      <td>0.0</td>\n",
       "      <td>0.022656</td>\n",
       "      <td>0.052054</td>\n",
       "      <td>0.024736</td>\n",
       "      <td>0.041475</td>\n",
       "      <td>0.385981</td>\n",
       "      <td>0.030025</td>\n",
       "      <td>0.443073</td>\n",
       "    </tr>\n",
       "    <tr>\n",
       "      <th>Conv</th>\n",
       "      <td>0.0</td>\n",
       "      <td>0.000000</td>\n",
       "      <td>0.000000</td>\n",
       "      <td>0.000000</td>\n",
       "      <td>0.000000</td>\n",
       "      <td>0.000000</td>\n",
       "      <td>1.000000</td>\n",
       "      <td>0.000000</td>\n",
       "    </tr>\n",
       "    <tr>\n",
       "      <th>No_Conv</th>\n",
       "      <td>0.0</td>\n",
       "      <td>0.000000</td>\n",
       "      <td>0.000000</td>\n",
       "      <td>0.000000</td>\n",
       "      <td>0.000000</td>\n",
       "      <td>0.000000</td>\n",
       "      <td>0.000000</td>\n",
       "      <td>1.000000</td>\n",
       "    </tr>\n",
       "  </tbody>\n",
       "</table>\n",
       "</div>"
      ],
      "text/plain": [
       "                Start  Instagram  Facebook  Online Video  Online Display  \\\n",
       "Start             0.0   0.119188  0.278408      0.142361        0.142644   \n",
       "Instagram         0.0   0.159586  0.372522      0.022247        0.018683   \n",
       "Facebook          0.0   0.159394  0.373140      0.021987        0.018197   \n",
       "Online Video      0.0   0.014492  0.034765      0.606062        0.009894   \n",
       "Online Display    0.0   0.021069  0.048992      0.016453        0.349007   \n",
       "Paid Search       0.0   0.022656  0.052054      0.024736        0.041475   \n",
       "Conv              0.0   0.000000  0.000000      0.000000        0.000000   \n",
       "No_Conv           0.0   0.000000  0.000000      0.000000        0.000000   \n",
       "\n",
       "                Paid Search      Conv   No_Conv  \n",
       "Start              0.317399  0.000000  0.000000  \n",
       "Instagram          0.033351  0.029840  0.363772  \n",
       "Facebook           0.034010  0.030164  0.363108  \n",
       "Online Video       0.024677  0.030079  0.280030  \n",
       "Online Display     0.077351  0.030104  0.457025  \n",
       "Paid Search        0.385981  0.030025  0.443073  \n",
       "Conv               0.000000  1.000000  0.000000  \n",
       "No_Conv            0.000000  0.000000  1.000000  "
      ]
     },
     "execution_count": 185,
     "metadata": {},
     "output_type": "execute_result"
    }
   ],
   "source": [
    "transition_matrix = pd.DataFrame()\n",
    "list_of_unique_channels = set(x for element in paths_list for x in element)\n",
    "\n",
    "# assign zero to all matrix elements\n",
    "# it also sets the diagonal element for each channel to 1.0 if the channel is 'Conv' or 'No_Conv', indicating that a conversion event occurs\n",
    "for channel in list_of_unique_channels:\n",
    "    transition_matrix[channel] = 0.00\n",
    "    transition_matrix.loc[channel] = 0.00\n",
    "    transition_matrix.loc[channel][channel] = 1.0 if channel in ['Conv', 'No_Conv'] else 0.0\n",
    "\n",
    "# assign probability using calculated transition probability\n",
    "for key, value in transition_prob.items():\n",
    "        origin, destination = key.split('>')\n",
    "        transition_matrix.at[origin, destination] = value\n",
    "\n",
    "# reorder the transition matrix so it's always start with \"Start\" state and end with \"Conv\" and \"No_Conv\" state\n",
    "desired_order = ['Start'] + [col for col in transition_matrix.columns if col not in ['Start', 'Conv', 'No_Conv']] + ['Conv', 'No_Conv']\n",
    "transition_matrix = transition_matrix.reindex(columns=desired_order, index=desired_order)\n",
    "\n",
    "transition_matrix"
   ]
  },
  {
   "cell_type": "markdown",
   "metadata": {},
   "source": [
    "6. Finally, **calculate the removal effect and determine the attribution for the channels**. This involves using the removal effect, along with the total conversions calculated earlier, to attribute conversions to each channel."
   ]
  },
  {
   "cell_type": "code",
   "execution_count": 188,
   "metadata": {},
   "outputs": [
    {
     "data": {
      "text/plain": [
       "{'Instagram': 0.23819930844630488,\n",
       " 'Facebook': 0.4139388612968292,\n",
       " 'Online Video': 0.22939605439512456,\n",
       " 'Online Display': 0.16689669272450292,\n",
       " 'Paid Search': 0.34139431314683333}"
      ]
     },
     "execution_count": 188,
     "metadata": {},
     "output_type": "execute_result"
    }
   ],
   "source": [
    "removal_effects_dict = {}\n",
    "\n",
    "# creates a list channels containing all channels from transition_matrix \n",
    "# except for 'Start', 'No_Conv', and 'Conv'\n",
    "channels = [channel for channel in transition_matrix.columns if channel not in ['Start',\n",
    "                                                                                'No_Conv',\n",
    "                                                                                'Conv']]\n",
    "\n",
    "# this loop iterates over each channel in channels and calculates its removal effect\n",
    "for channel in channels:\n",
    "    removal_df = transition_matrix.drop(channel, axis=1).drop(channel, axis=0)\n",
    "    \n",
    "    for column in removal_df.columns:\n",
    "\n",
    "        # calculates the sum of values in each row of removal_df \n",
    "        # computes the percentage of null transitions (transitions to 'No_Conv'), and updates the 'No_Conv' column in removal_df with the null percentages.\n",
    "        row_sum = np.sum(list(removal_df.loc[column]))\n",
    "        null_pct = float(1) - row_sum\n",
    "        if null_pct != 0:\n",
    "            removal_df.loc[column]['No_Conv'] = null_pct\n",
    "        removal_df.loc['No_Conv']['No_Conv'] = 1.0\n",
    "    \n",
    "    # calculates the removal effect for the current channel by performing matrix operations using numpy and pandas \n",
    "    # to simulate the removal of the channel and its effects on conversion rates.\n",
    "    removal_to_conv = removal_df[['No_Conv', 'Conv']].drop(['No_Conv', 'Conv'], axis=0)\n",
    "    removal_to_non_conv = removal_df.drop(['No_Conv', 'Conv'], axis=1).drop(['No_Conv', 'Conv'], axis=0)\n",
    "    removal_inv_diff = np.linalg.inv(\n",
    "        np.identity(\n",
    "            len(removal_to_non_conv.columns)) - np.asarray(removal_to_non_conv))\n",
    "    \n",
    "    removal_dot_prod = np.dot(removal_inv_diff, np.asarray(removal_to_conv))\n",
    "    removal_cvr = pd.DataFrame(removal_dot_prod,\n",
    "                               index=removal_to_conv.index)[[1]].loc['Start'].values[0]\n",
    "    \n",
    "    removal_effect = 1 - removal_cvr / conv_rate\n",
    "\n",
    "    # the removal effect for the current channel is stored in the removal_effects_dict dictionary.\n",
    "    removal_effects_dict[channel] = removal_effect\n",
    "\n",
    "removal_effects_dict"
   ]
  },
  {
   "cell_type": "code",
   "execution_count": 198,
   "metadata": {},
   "outputs": [
    {
     "data": {
      "text/plain": [
       "{'Instagram': 3023.112194945091,\n",
       " 'Facebook': 5253.514914507894,\n",
       " 'Online Video': 2911.385486538957,\n",
       " 'Online Display': 2118.173349714758,\n",
       " 'Paid Search': 4332.8140542933015}"
      ]
     },
     "execution_count": 198,
     "metadata": {},
     "output_type": "execute_result"
    }
   ],
   "source": [
    "removal_effect_sum = np.sum(list(removal_effects_dict.values()))\n",
    "\n",
    "# calculates the attribution for each channel. It iterates over each key-value pair in removal_effects_dict, \n",
    "# divides the removal effect value by the total removal effect sum, \n",
    "# and then multiplies by the total conversions (total_conv) to get the attribution for that channel\n",
    "\n",
    "attribution_dict = {key: (value / removal_effect_sum) * total_conv for key, value in removal_effects_dict.items()}\n",
    "attribution_dict"
   ]
  },
  {
   "cell_type": "code",
   "execution_count": 203,
   "metadata": {},
   "outputs": [
    {
     "data": {
      "text/html": [
       "<div>\n",
       "<style scoped>\n",
       "    .dataframe tbody tr th:only-of-type {\n",
       "        vertical-align: middle;\n",
       "    }\n",
       "\n",
       "    .dataframe tbody tr th {\n",
       "        vertical-align: top;\n",
       "    }\n",
       "\n",
       "    .dataframe thead th {\n",
       "        text-align: right;\n",
       "    }\n",
       "</style>\n",
       "<table border=\"1\" class=\"dataframe\">\n",
       "  <thead>\n",
       "    <tr style=\"text-align: right;\">\n",
       "      <th></th>\n",
       "      <th>removal_effect</th>\n",
       "      <th>attribution</th>\n",
       "    </tr>\n",
       "  </thead>\n",
       "  <tbody>\n",
       "    <tr>\n",
       "      <th>Instagram</th>\n",
       "      <td>0.24</td>\n",
       "      <td>3023.11</td>\n",
       "    </tr>\n",
       "    <tr>\n",
       "      <th>Facebook</th>\n",
       "      <td>0.41</td>\n",
       "      <td>5253.51</td>\n",
       "    </tr>\n",
       "    <tr>\n",
       "      <th>Online Video</th>\n",
       "      <td>0.23</td>\n",
       "      <td>2911.39</td>\n",
       "    </tr>\n",
       "    <tr>\n",
       "      <th>Online Display</th>\n",
       "      <td>0.17</td>\n",
       "      <td>2118.17</td>\n",
       "    </tr>\n",
       "    <tr>\n",
       "      <th>Paid Search</th>\n",
       "      <td>0.34</td>\n",
       "      <td>4332.81</td>\n",
       "    </tr>\n",
       "  </tbody>\n",
       "</table>\n",
       "</div>"
      ],
      "text/plain": [
       "                removal_effect  attribution\n",
       "Instagram                 0.24      3023.11\n",
       "Facebook                  0.41      5253.51\n",
       "Online Video              0.23      2911.39\n",
       "Online Display            0.17      2118.17\n",
       "Paid Search               0.34      4332.81"
      ]
     },
     "execution_count": 203,
     "metadata": {},
     "output_type": "execute_result"
    }
   ],
   "source": [
    "# combine both removal and attribution into a single dataframe\n",
    "removal_df = pd.DataFrame.from_dict(removal_effects_dict, orient='index', columns=['removal_effect'])\n",
    "att_df = pd.DataFrame.from_dict(attribution_dict, orient='index', columns=['attribution'])\n",
    "\n",
    "# combine dataframes\n",
    "att_markov = pd.concat([removal_df, att_df], axis=1)\n",
    "att_markov = round(att_markov, 2)\n",
    "\n",
    "att_markov"
   ]
  },
  {
   "cell_type": "markdown",
   "metadata": {},
   "source": []
  },
  {
   "cell_type": "markdown",
   "metadata": {},
   "source": [
    "# 2.3. Final Verdict\n",
    "\n",
    "Let's compare all the attribution values we got for each channel from all methods we've done previously."
   ]
  },
  {
   "cell_type": "code",
   "execution_count": 206,
   "metadata": {},
   "outputs": [
    {
     "data": {
      "text/html": [
       "<div>\n",
       "<style scoped>\n",
       "    .dataframe tbody tr th:only-of-type {\n",
       "        vertical-align: middle;\n",
       "    }\n",
       "\n",
       "    .dataframe tbody tr th {\n",
       "        vertical-align: top;\n",
       "    }\n",
       "\n",
       "    .dataframe thead th {\n",
       "        text-align: right;\n",
       "    }\n",
       "</style>\n",
       "<table border=\"1\" class=\"dataframe\">\n",
       "  <thead>\n",
       "    <tr style=\"text-align: right;\">\n",
       "      <th></th>\n",
       "      <th>att_first</th>\n",
       "      <th>att_last</th>\n",
       "      <th>att_linear</th>\n",
       "      <th>att_time</th>\n",
       "      <th>att_pos</th>\n",
       "      <th>att_markov</th>\n",
       "    </tr>\n",
       "  </thead>\n",
       "  <tbody>\n",
       "    <tr>\n",
       "      <th>Facebook</th>\n",
       "      <td>5206</td>\n",
       "      <td>5334</td>\n",
       "      <td>5218.90</td>\n",
       "      <td>5259.85</td>\n",
       "      <td>5228.18</td>\n",
       "      <td>5253.51</td>\n",
       "    </tr>\n",
       "    <tr>\n",
       "      <th>Paid Search</th>\n",
       "      <td>4773</td>\n",
       "      <td>4575</td>\n",
       "      <td>4681.20</td>\n",
       "      <td>4596.19</td>\n",
       "      <td>4664.28</td>\n",
       "      <td>4332.81</td>\n",
       "    </tr>\n",
       "    <tr>\n",
       "      <th>Online Video</th>\n",
       "      <td>3272</td>\n",
       "      <td>3518</td>\n",
       "      <td>3349.40</td>\n",
       "      <td>3390.67</td>\n",
       "      <td>3323.59</td>\n",
       "      <td>2911.39</td>\n",
       "    </tr>\n",
       "    <tr>\n",
       "      <th>Instagram</th>\n",
       "      <td>2347</td>\n",
       "      <td>2263</td>\n",
       "      <td>2265.18</td>\n",
       "      <td>2259.40</td>\n",
       "      <td>2281.03</td>\n",
       "      <td>3023.11</td>\n",
       "    </tr>\n",
       "    <tr>\n",
       "      <th>Online Display</th>\n",
       "      <td>2165</td>\n",
       "      <td>2147</td>\n",
       "      <td>2124.32</td>\n",
       "      <td>2132.90</td>\n",
       "      <td>2141.91</td>\n",
       "      <td>2118.17</td>\n",
       "    </tr>\n",
       "  </tbody>\n",
       "</table>\n",
       "</div>"
      ],
      "text/plain": [
       "                att_first  att_last  att_linear  att_time  att_pos  att_markov\n",
       "Facebook             5206      5334     5218.90   5259.85  5228.18     5253.51\n",
       "Paid Search          4773      4575     4681.20   4596.19  4664.28     4332.81\n",
       "Online Video         3272      3518     3349.40   3390.67  3323.59     2911.39\n",
       "Instagram            2347      2263     2265.18   2259.40  2281.03     3023.11\n",
       "Online Display       2165      2147     2124.32   2132.90  2141.91     2118.17"
      ]
     },
     "execution_count": 206,
     "metadata": {},
     "output_type": "execute_result"
    }
   ],
   "source": [
    "# combine the value we get\n",
    "\n",
    "att_all = pd.concat([att_all, att_markov['attribution']], axis=1)\n",
    "att_all = att_all.rename(columns={'attribution': 'att_markov'})\n",
    "\n",
    "att_all"
   ]
  },
  {
   "cell_type": "code",
   "execution_count": 211,
   "metadata": {},
   "outputs": [
    {
     "data": {
      "image/png": "[encoded data removed]",
      "text/plain": [
       "<Figure size 640x480 with 1 Axes>"
      ]
     },
     "metadata": {},
     "output_type": "display_data"
    }
   ],
   "source": [
    "att_all.plot(kind='bar')\n",
    "\n",
    "plt.title('Attribution Modeling for All Methodologies')\n",
    "plt.show()"
   ]
  }
 ],
 "metadata": {
  "kernelspec": {
   "display_name": "base",
   "language": "python",
   "name": "python3"
  },
  "language_info": {
   "codemirror_mode": {
    "name": "ipython",
    "version": 3
   },
   "file_extension": ".py",
   "mimetype": "text/x-python",
   "name": "python",
   "nbconvert_exporter": "python",
   "pygments_lexer": "ipython3",
   "version": "3.10.9"
  }
 },
 "nbformat": 4,
 "nbformat_minor": 2
}
